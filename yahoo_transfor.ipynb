{
 "cells": [
  {
   "cell_type": "code",
   "execution_count": 1,
   "metadata": {
    "id": "tB_XkK2_o2pC"
   },
   "outputs": [],
   "source": [
    "import pandas as pd\n",
    "import numpy as np\n",
    "from sklearn.preprocessing import MinMaxScaler\n",
    "import matplotlib.pyplot as plt\n",
    "from collections import Counter\n",
    "from numpy.random import seed\n",
    "import tensorflow\n",
    "from sklearn.metrics import classification_report\n",
    "import seaborn as sns\n",
    "from tensorflow import keras\n",
    "from tensorflow.keras import layers\n",
    "seed(1)\n"
   ]
  },
  {
   "cell_type": "code",
   "execution_count": 2,
   "metadata": {
    "colab": {
     "base_uri": "https://localhost:8080/",
     "height": 424
    },
    "executionInfo": {
     "elapsed": 802,
     "status": "ok",
     "timestamp": 1656599803720,
     "user": {
      "displayName": "Hugo Nuñez Delafuente",
      "userId": "07552315814755007738"
     },
     "user_tz": 240
    },
    "id": "OCnSFzItpjnc",
    "outputId": "e70834af-76b7-419e-d9bc-be7714041fd4"
   },
   "outputs": [
    {
     "data": {
      "text/html": [
       "<div>\n",
       "<style scoped>\n",
       "    .dataframe tbody tr th:only-of-type {\n",
       "        vertical-align: middle;\n",
       "    }\n",
       "\n",
       "    .dataframe tbody tr th {\n",
       "        vertical-align: top;\n",
       "    }\n",
       "\n",
       "    .dataframe thead th {\n",
       "        text-align: right;\n",
       "    }\n",
       "</style>\n",
       "<table border=\"1\" class=\"dataframe\">\n",
       "  <thead>\n",
       "    <tr style=\"text-align: right;\">\n",
       "      <th></th>\n",
       "      <th>timestamp</th>\n",
       "      <th>value</th>\n",
       "      <th>is_anomaly</th>\n",
       "    </tr>\n",
       "  </thead>\n",
       "  <tbody>\n",
       "    <tr>\n",
       "      <th>0</th>\n",
       "      <td>1</td>\n",
       "      <td>0</td>\n",
       "      <td>0</td>\n",
       "    </tr>\n",
       "    <tr>\n",
       "      <th>1</th>\n",
       "      <td>2</td>\n",
       "      <td>33</td>\n",
       "      <td>0</td>\n",
       "    </tr>\n",
       "    <tr>\n",
       "      <th>2</th>\n",
       "      <td>3</td>\n",
       "      <td>31</td>\n",
       "      <td>0</td>\n",
       "    </tr>\n",
       "    <tr>\n",
       "      <th>3</th>\n",
       "      <td>4</td>\n",
       "      <td>68</td>\n",
       "      <td>0</td>\n",
       "    </tr>\n",
       "    <tr>\n",
       "      <th>4</th>\n",
       "      <td>5</td>\n",
       "      <td>63</td>\n",
       "      <td>0</td>\n",
       "    </tr>\n",
       "    <tr>\n",
       "      <th>...</th>\n",
       "      <td>...</td>\n",
       "      <td>...</td>\n",
       "      <td>...</td>\n",
       "    </tr>\n",
       "    <tr>\n",
       "      <th>1415</th>\n",
       "      <td>1416</td>\n",
       "      <td>1495</td>\n",
       "      <td>0</td>\n",
       "    </tr>\n",
       "    <tr>\n",
       "      <th>1416</th>\n",
       "      <td>1417</td>\n",
       "      <td>1605</td>\n",
       "      <td>0</td>\n",
       "    </tr>\n",
       "    <tr>\n",
       "      <th>1417</th>\n",
       "      <td>1418</td>\n",
       "      <td>1201</td>\n",
       "      <td>0</td>\n",
       "    </tr>\n",
       "    <tr>\n",
       "      <th>1418</th>\n",
       "      <td>1419</td>\n",
       "      <td>916</td>\n",
       "      <td>0</td>\n",
       "    </tr>\n",
       "    <tr>\n",
       "      <th>1419</th>\n",
       "      <td>1420</td>\n",
       "      <td>1363</td>\n",
       "      <td>0</td>\n",
       "    </tr>\n",
       "  </tbody>\n",
       "</table>\n",
       "<p>1420 rows × 3 columns</p>\n",
       "</div>"
      ],
      "text/plain": [
       "      timestamp  value  is_anomaly\n",
       "0             1      0           0\n",
       "1             2     33           0\n",
       "2             3     31           0\n",
       "3             4     68           0\n",
       "4             5     63           0\n",
       "...         ...    ...         ...\n",
       "1415       1416   1495           0\n",
       "1416       1417   1605           0\n",
       "1417       1418   1201           0\n",
       "1418       1419    916           0\n",
       "1419       1420   1363           0\n",
       "\n",
       "[1420 rows x 3 columns]"
      ]
     },
     "execution_count": 2,
     "metadata": {},
     "output_type": "execute_result"
    }
   ],
   "source": [
    "#https://raw.githubusercontent.com/hnunezd/DSI/main/real_1.csv\n",
    "#https://raw.githubusercontent.com/hnunezd/DSI/main/real_8.csv\n",
    "#https://raw.githubusercontent.com/hnunezd/DSI/main/real_65.csv\n",
    "#https://raw.githubusercontent.com/hnunezd/DSI/main/real_26.csv\n",
    "#https://raw.githubusercontent.com/hnunezd/DSI/main/real_27.csv\n",
    "#https://raw.githubusercontent.com/hnunezd/DSI/main/real_31.csv\n",
    "\n",
    "url=\"https://raw.githubusercontent.com/hnunezd/DSI/main/real_8.csv\"\n",
    "df = pd.read_csv(url)\n"
   ]
  },
  {
   "cell_type": "code",
   "execution_count": 3,
   "metadata": {
    "id": "_I4g6edVaBeh"
   },
   "outputs": [],
   "source": [
    "anom=df[df[\"is_anomaly\"]==1]"
   ]
  },
  {
   "cell_type": "code",
   "execution_count": 4,
   "metadata": {
    "colab": {
     "base_uri": "https://localhost:8080/"
    },
    "executionInfo": {
     "elapsed": 223,
     "status": "ok",
     "timestamp": 1656599807172,
     "user": {
      "displayName": "Hugo Nuñez Delafuente",
      "userId": "07552315814755007738"
     },
     "user_tz": 240
    },
    "id": "uuGB_lj3BQHv",
    "outputId": "14015b84-8f82-4d6e-db6e-cedbaeee4aea"
   },
   "outputs": [
    {
     "data": {
      "text/plain": [
       "Counter({0: 1410, 1: 10})"
      ]
     },
     "execution_count": 4,
     "metadata": {},
     "output_type": "execute_result"
    }
   ],
   "source": [
    "Counter(df[\"is_anomaly\"])"
   ]
  },
  {
   "cell_type": "code",
   "execution_count": 5,
   "metadata": {
    "colab": {
     "base_uri": "https://localhost:8080/",
     "height": 700
    },
    "executionInfo": {
     "elapsed": 983,
     "status": "ok",
     "timestamp": 1656599809579,
     "user": {
      "displayName": "Hugo Nuñez Delafuente",
      "userId": "07552315814755007738"
     },
     "user_tz": 240
    },
    "id": "byc0M2dOzEu-",
    "outputId": "c20585b4-7003-46a7-a5f7-c12bbf0b7f5d"
   },
   "outputs": [
    {
     "data": {
      "image/png": "[encoded data removed]",
      "text/plain": [
       "<Figure size 1000x600 with 1 Axes>"
      ]
     },
     "metadata": {},
     "output_type": "display_data"
    }
   ],
   "source": [
    "plt.figure(figsize=(10,6))\n",
    "plt.plot(df[\"value\"])\n",
    "plt.scatter(anom[\"timestamp\"],anom[\"value\"],c=\"red\",label=\"anomaly\")\n",
    "plt.legend(shadow=True)\n",
    "plt.show()"
   ]
  },
  {
   "cell_type": "code",
   "execution_count": 6,
   "metadata": {
    "id": "7NygG34tsvQI"
   },
   "outputs": [],
   "source": [
    "values=df.iloc[:,1:2]\n",
    "target=df[\"is_anomaly\"]"
   ]
  },
  {
   "cell_type": "code",
   "execution_count": 7,
   "metadata": {
    "id": "K8MLrYG5svUk"
   },
   "outputs": [],
   "source": [
    "test=int(len(df)*0.5)"
   ]
  },
  {
   "cell_type": "code",
   "execution_count": 8,
   "metadata": {
    "id": "3DH94S2Us_FN"
   },
   "outputs": [],
   "source": [
    "x_train=values[:test]\n",
    "x_test=values[test:len(df)]"
   ]
  },
  {
   "cell_type": "code",
   "execution_count": 9,
   "metadata": {
    "id": "zMiW4SO3s_Hw"
   },
   "outputs": [],
   "source": [
    "scaler = MinMaxScaler(feature_range=(0, 1))\n",
    "scaled_data_p = scaler.fit_transform(x_train)"
   ]
  },
  {
   "cell_type": "code",
   "execution_count": 10,
   "metadata": {
    "id": "TkXrYOlss_KG"
   },
   "outputs": [],
   "source": [
    "scaled_test = scaler.fit_transform(x_test)"
   ]
  },
  {
   "cell_type": "code",
   "execution_count": 11,
   "metadata": {
    "id": "bvYcMSFXtE_D"
   },
   "outputs": [],
   "source": [
    "x_train_p, y_train_p = [], []\n",
    "for i in range(8,len(scaled_data_p)):\n",
    "    x_train_p.append(scaled_data_p[i-8:i])\n",
    "    y_train_p.append(scaled_data_p[i])\n",
    "x_train_p, y_train_p = np.array(x_train_p), np.array(y_train_p)"
   ]
  },
  {
   "cell_type": "code",
   "execution_count": 12,
   "metadata": {
    "id": "r8glFcE2tFBo"
   },
   "outputs": [],
   "source": [
    "x_test_p, y_test_p = [], []\n",
    "for i in range(8,len(scaled_test)):\n",
    "    x_test_p.append(scaled_test[i-8:i])\n",
    "    y_test_p.append(scaled_test[i])\n",
    "x_test_p, y_test_p = np.array(x_test_p), np.array(y_test_p)"
   ]
  },
  {
   "cell_type": "code",
   "execution_count": 13,
   "metadata": {
    "id": "YZ5ltq1L397v"
   },
   "outputs": [],
   "source": [
    "def transformer_encoder(inputs, head_size, num_heads, ff_dim, dropout=0):\n",
    "    x = layers.LayerNormalization(epsilon=1e-6)(inputs)\n",
    "    x = layers.MultiHeadAttention(\n",
    "        key_dim=head_size, num_heads=num_heads, dropout=dropout\n",
    "    )(x, x)\n",
    "    x = layers.Dropout(dropout)(x)\n",
    "    res = x + inputs\n",
    "\n",
    "    x = layers.LayerNormalization(epsilon=1e-6)(res)\n",
    "    x = layers.Conv1D(filters=ff_dim, kernel_size=1, activation=\"relu\")(x)\n",
    "    x = layers.Dropout(dropout)(x)\n",
    "    x = layers.Conv1D(filters=inputs.shape[-1], kernel_size=1)(x)\n",
    "    return x + res"
   ]
  },
  {
   "cell_type": "code",
   "execution_count": 14,
   "metadata": {
    "id": "HUAVPayh4MKc"
   },
   "outputs": [],
   "source": [
    "def build_model(\n",
    "    input_shape,\n",
    "    head_size,\n",
    "    num_heads,\n",
    "    ff_dim,\n",
    "    num_transformer_blocks,\n",
    "    mlp_units,\n",
    "    dropout=0,\n",
    "    mlp_dropout=0,\n",
    "):\n",
    "    inputs = keras.Input(shape=input_shape)\n",
    "    x = inputs\n",
    "    for _ in range(num_transformer_blocks):\n",
    "        x = transformer_encoder(x, head_size, num_heads, ff_dim, dropout)\n",
    "\n",
    "    x = layers.GlobalAveragePooling1D(data_format=\"channels_first\")(x)\n",
    "    for dim in mlp_units:\n",
    "        x = layers.Dense(dim, activation=\"relu\")(x)\n",
    "        x = layers.Dropout(mlp_dropout)(x)\n",
    "    outputs = layers.Dense(1)(x)\n",
    "    return keras.Model(inputs, outputs)"
   ]
  },
  {
   "cell_type": "code",
   "execution_count": null,
   "metadata": {
    "colab": {
     "base_uri": "https://localhost:8080/"
    },
    "executionInfo": {
     "elapsed": 88847,
     "status": "ok",
     "timestamp": 1656600497712,
     "user": {
      "displayName": "Hugo Nuñez Delafuente",
      "userId": "07552315814755007738"
     },
     "user_tz": 240
    },
    "id": "ZzacEsJip2uB",
    "outputId": "ce0cea7e-30c9-4177-e6bc-51e53816e824"
   },
   "outputs": [],
   "source": [
    "tensorflow.random.set_seed(123)\n",
    "input_shape = x_train_p.shape[1:]\n",
    "\n",
    "model = build_model(\n",
    "    input_shape,\n",
    "    head_size=256,\n",
    "    num_heads=4,\n",
    "    ff_dim=2,\n",
    "    num_transformer_blocks=4,\n",
    "    mlp_units=[128],\n",
    "    mlp_dropout=0.4,\n",
    "    dropout=0.4,\n",
    ")\n",
    "\n",
    "model.compile(\n",
    "    loss=\"mean_squared_error\",\n",
    "    optimizer=keras.optimizers.Adam(learning_rate=0.001)\n",
    ")\n",
    "model.summary()\n",
    "\n",
    "callbacks = [keras.callbacks.EarlyStopping(monitor='val_loss',patience=5, \\\n",
    "    restore_best_weights=True)]\n",
    "\n",
    "model.fit(\n",
    "    x_train_p,\n",
    "    y_train_p,\n",
    "    validation_split=0.2,\n",
    "    epochs=200,\n",
    "    batch_size=60,\n",
    "    callbacks=callbacks,\n",
    ")\n",
    "\n",
    "model.evaluate(x_test_p, y_test_p, verbose=1)"
   ]
  },
  {
   "cell_type": "code",
   "execution_count": 17,
   "metadata": {
    "colab": {
     "base_uri": "https://localhost:8080/"
    },
    "executionInfo": {
     "elapsed": 1148,
     "status": "ok",
     "timestamp": 1656600515879,
     "user": {
      "displayName": "Hugo Nuñez Delafuente",
      "userId": "07552315814755007738"
     },
     "user_tz": 240
    },
    "id": "DqiV9Oq2p2uB",
    "outputId": "e1fbd48c-d4e0-42aa-c361-e81d9e2cbd67"
   },
   "outputs": [
    {
     "name": "stdout",
     "output_type": "stream",
     "text": [
      "22/22 [==============================] - 0s 10ms/step\n"
     ]
    }
   ],
   "source": [
    "from sklearn import metrics\n",
    "\n",
    "pred = model.predict(x_test_p)\n"
   ]
  },
  {
   "cell_type": "code",
   "execution_count": 18,
   "metadata": {
    "colab": {
     "base_uri": "https://localhost:8080/",
     "height": 662
    },
    "executionInfo": {
     "elapsed": 744,
     "status": "ok",
     "timestamp": 1656600517648,
     "user": {
      "displayName": "Hugo Nuñez Delafuente",
      "userId": "07552315814755007738"
     },
     "user_tz": 240
    },
    "id": "bs9TkOO9u21A",
    "outputId": "f0f40662-c341-4dca-c422-e8e69c713bd3"
   },
   "outputs": [
    {
     "data": {
      "image/png": "[encoded data removed]",
      "text/plain": [
       "<Figure size 1000x600 with 1 Axes>"
      ]
     },
     "metadata": {},
     "output_type": "display_data"
    }
   ],
   "source": [
    "plt.figure(figsize=(10,6))\n",
    "#plt.xlim(1900,2100)\n",
    "plt.plot(y_test_p, label=\"Real\")\n",
    "plt.plot(pred, label=\"Predicción\")\n",
    "plt.title(\"Transformer / Test\")\n",
    "plt.legend(shadow=True)\n",
    "plt.show()"
   ]
  },
  {
   "cell_type": "code",
   "execution_count": 19,
   "metadata": {
    "id": "Gnvd8-Q3ymHa"
   },
   "outputs": [],
   "source": [
    "df_1=pd.DataFrame()"
   ]
  },
  {
   "cell_type": "code",
   "execution_count": 20,
   "metadata": {
    "id": "SrdPLCDOynxZ"
   },
   "outputs": [],
   "source": [
    "df_1[\"real\"]=pd.DataFrame(y_test_p)"
   ]
  },
  {
   "cell_type": "code",
   "execution_count": 21,
   "metadata": {
    "id": "S8gDIj8ayrQU"
   },
   "outputs": [],
   "source": [
    "df_1[\"pred\"]=pred"
   ]
  },
  {
   "cell_type": "code",
   "execution_count": 22,
   "metadata": {
    "id": "ZxM7pNKxyvrX"
   },
   "outputs": [],
   "source": [
    "df_1[\"anomaly\"]=target[test+8:len(df)].values"
   ]
  },
  {
   "cell_type": "code",
   "execution_count": 23,
   "metadata": {
    "id": "HPcRFEEny1al"
   },
   "outputs": [],
   "source": [
    "df_1[\"Error\"]=(df_1.real-df_1.pred)**2"
   ]
  },
  {
   "cell_type": "code",
   "execution_count": 24,
   "metadata": {
    "id": "N9DOyfE3y_Vv"
   },
   "outputs": [],
   "source": [
    "#anomalias_p = df_1[(df_1.Error < - 3.5*np.std(df_1.Error)) | (df_1.Error > 3.5*np.std(df_1.Error))]\n",
    "anomalias_p = df_1[df_1.Error > 3.5*np.std(df_1.Error)]"
   ]
  },
  {
   "cell_type": "code",
   "execution_count": 25,
   "metadata": {
    "colab": {
     "base_uri": "https://localhost:8080/",
     "height": 112
    },
    "executionInfo": {
     "elapsed": 201,
     "status": "ok",
     "timestamp": 1656600576489,
     "user": {
      "displayName": "Hugo Nuñez Delafuente",
      "userId": "07552315814755007738"
     },
     "user_tz": 240
    },
    "id": "k74Dky4LzDsH",
    "outputId": "55e6fb62-9a30-497d-beb5-d561400f0e6d"
   },
   "outputs": [
    {
     "data": {
      "text/html": [
       "<div>\n",
       "<style scoped>\n",
       "    .dataframe tbody tr th:only-of-type {\n",
       "        vertical-align: middle;\n",
       "    }\n",
       "\n",
       "    .dataframe tbody tr th {\n",
       "        vertical-align: top;\n",
       "    }\n",
       "\n",
       "    .dataframe thead th {\n",
       "        text-align: right;\n",
       "    }\n",
       "</style>\n",
       "<table border=\"1\" class=\"dataframe\">\n",
       "  <thead>\n",
       "    <tr style=\"text-align: right;\">\n",
       "      <th></th>\n",
       "      <th>real</th>\n",
       "      <th>pred</th>\n",
       "      <th>anomaly</th>\n",
       "      <th>Error</th>\n",
       "    </tr>\n",
       "  </thead>\n",
       "  <tbody>\n",
       "    <tr>\n",
       "      <th>165</th>\n",
       "      <td>0.786611</td>\n",
       "      <td>0.060849</td>\n",
       "      <td>1</td>\n",
       "      <td>0.526731</td>\n",
       "    </tr>\n",
       "    <tr>\n",
       "      <th>166</th>\n",
       "      <td>0.940028</td>\n",
       "      <td>0.132112</td>\n",
       "      <td>1</td>\n",
       "      <td>0.652728</td>\n",
       "    </tr>\n",
       "    <tr>\n",
       "      <th>218</th>\n",
       "      <td>0.943340</td>\n",
       "      <td>0.070134</td>\n",
       "      <td>1</td>\n",
       "      <td>0.762488</td>\n",
       "    </tr>\n",
       "    <tr>\n",
       "      <th>498</th>\n",
       "      <td>0.612971</td>\n",
       "      <td>0.026430</td>\n",
       "      <td>1</td>\n",
       "      <td>0.344030</td>\n",
       "    </tr>\n",
       "    <tr>\n",
       "      <th>499</th>\n",
       "      <td>0.886855</td>\n",
       "      <td>0.101005</td>\n",
       "      <td>1</td>\n",
       "      <td>0.617560</td>\n",
       "    </tr>\n",
       "    <tr>\n",
       "      <th>500</th>\n",
       "      <td>0.788354</td>\n",
       "      <td>0.191440</td>\n",
       "      <td>1</td>\n",
       "      <td>0.356307</td>\n",
       "    </tr>\n",
       "    <tr>\n",
       "      <th>501</th>\n",
       "      <td>0.841353</td>\n",
       "      <td>0.213626</td>\n",
       "      <td>1</td>\n",
       "      <td>0.394041</td>\n",
       "    </tr>\n",
       "    <tr>\n",
       "      <th>502</th>\n",
       "      <td>0.773710</td>\n",
       "      <td>0.279468</td>\n",
       "      <td>1</td>\n",
       "      <td>0.244275</td>\n",
       "    </tr>\n",
       "    <tr>\n",
       "      <th>503</th>\n",
       "      <td>1.000000</td>\n",
       "      <td>0.280986</td>\n",
       "      <td>1</td>\n",
       "      <td>0.516981</td>\n",
       "    </tr>\n",
       "    <tr>\n",
       "      <th>504</th>\n",
       "      <td>0.884066</td>\n",
       "      <td>0.153827</td>\n",
       "      <td>1</td>\n",
       "      <td>0.533248</td>\n",
       "    </tr>\n",
       "  </tbody>\n",
       "</table>\n",
       "</div>"
      ],
      "text/plain": [
       "         real      pred  anomaly     Error\n",
       "165  0.786611  0.060849        1  0.526731\n",
       "166  0.940028  0.132112        1  0.652728\n",
       "218  0.943340  0.070134        1  0.762488\n",
       "498  0.612971  0.026430        1  0.344030\n",
       "499  0.886855  0.101005        1  0.617560\n",
       "500  0.788354  0.191440        1  0.356307\n",
       "501  0.841353  0.213626        1  0.394041\n",
       "502  0.773710  0.279468        1  0.244275\n",
       "503  1.000000  0.280986        1  0.516981\n",
       "504  0.884066  0.153827        1  0.533248"
      ]
     },
     "execution_count": 25,
     "metadata": {},
     "output_type": "execute_result"
    }
   ],
   "source": [
    "#Potenciales Anomalias identificadas con transformers\n",
    "anomalias_p"
   ]
  },
  {
   "cell_type": "code",
   "execution_count": 26,
   "metadata": {
    "colab": {
     "base_uri": "https://localhost:8080/",
     "height": 112
    },
    "executionInfo": {
     "elapsed": 332,
     "status": "ok",
     "timestamp": 1656600579193,
     "user": {
      "displayName": "Hugo Nuñez Delafuente",
      "userId": "07552315814755007738"
     },
     "user_tz": 240
    },
    "id": "xCYro-pM1eAv",
    "outputId": "05d8de60-8086-4805-ed9f-cddd33c98032"
   },
   "outputs": [
    {
     "data": {
      "text/html": [
       "<div>\n",
       "<style scoped>\n",
       "    .dataframe tbody tr th:only-of-type {\n",
       "        vertical-align: middle;\n",
       "    }\n",
       "\n",
       "    .dataframe tbody tr th {\n",
       "        vertical-align: top;\n",
       "    }\n",
       "\n",
       "    .dataframe thead th {\n",
       "        text-align: right;\n",
       "    }\n",
       "</style>\n",
       "<table border=\"1\" class=\"dataframe\">\n",
       "  <thead>\n",
       "    <tr style=\"text-align: right;\">\n",
       "      <th></th>\n",
       "      <th>real</th>\n",
       "      <th>pred</th>\n",
       "      <th>anomaly</th>\n",
       "      <th>Error</th>\n",
       "    </tr>\n",
       "  </thead>\n",
       "  <tbody>\n",
       "    <tr>\n",
       "      <th>165</th>\n",
       "      <td>0.786611</td>\n",
       "      <td>0.060849</td>\n",
       "      <td>1</td>\n",
       "      <td>0.526731</td>\n",
       "    </tr>\n",
       "    <tr>\n",
       "      <th>166</th>\n",
       "      <td>0.940028</td>\n",
       "      <td>0.132112</td>\n",
       "      <td>1</td>\n",
       "      <td>0.652728</td>\n",
       "    </tr>\n",
       "    <tr>\n",
       "      <th>218</th>\n",
       "      <td>0.943340</td>\n",
       "      <td>0.070134</td>\n",
       "      <td>1</td>\n",
       "      <td>0.762488</td>\n",
       "    </tr>\n",
       "    <tr>\n",
       "      <th>498</th>\n",
       "      <td>0.612971</td>\n",
       "      <td>0.026430</td>\n",
       "      <td>1</td>\n",
       "      <td>0.344030</td>\n",
       "    </tr>\n",
       "    <tr>\n",
       "      <th>499</th>\n",
       "      <td>0.886855</td>\n",
       "      <td>0.101005</td>\n",
       "      <td>1</td>\n",
       "      <td>0.617560</td>\n",
       "    </tr>\n",
       "    <tr>\n",
       "      <th>500</th>\n",
       "      <td>0.788354</td>\n",
       "      <td>0.191440</td>\n",
       "      <td>1</td>\n",
       "      <td>0.356307</td>\n",
       "    </tr>\n",
       "    <tr>\n",
       "      <th>501</th>\n",
       "      <td>0.841353</td>\n",
       "      <td>0.213626</td>\n",
       "      <td>1</td>\n",
       "      <td>0.394041</td>\n",
       "    </tr>\n",
       "    <tr>\n",
       "      <th>502</th>\n",
       "      <td>0.773710</td>\n",
       "      <td>0.279468</td>\n",
       "      <td>1</td>\n",
       "      <td>0.244275</td>\n",
       "    </tr>\n",
       "    <tr>\n",
       "      <th>503</th>\n",
       "      <td>1.000000</td>\n",
       "      <td>0.280986</td>\n",
       "      <td>1</td>\n",
       "      <td>0.516981</td>\n",
       "    </tr>\n",
       "    <tr>\n",
       "      <th>504</th>\n",
       "      <td>0.884066</td>\n",
       "      <td>0.153827</td>\n",
       "      <td>1</td>\n",
       "      <td>0.533248</td>\n",
       "    </tr>\n",
       "  </tbody>\n",
       "</table>\n",
       "</div>"
      ],
      "text/plain": [
       "         real      pred  anomaly     Error\n",
       "165  0.786611  0.060849        1  0.526731\n",
       "166  0.940028  0.132112        1  0.652728\n",
       "218  0.943340  0.070134        1  0.762488\n",
       "498  0.612971  0.026430        1  0.344030\n",
       "499  0.886855  0.101005        1  0.617560\n",
       "500  0.788354  0.191440        1  0.356307\n",
       "501  0.841353  0.213626        1  0.394041\n",
       "502  0.773710  0.279468        1  0.244275\n",
       "503  1.000000  0.280986        1  0.516981\n",
       "504  0.884066  0.153827        1  0.533248"
      ]
     },
     "execution_count": 26,
     "metadata": {},
     "output_type": "execute_result"
    }
   ],
   "source": [
    "#Total de anomalias reales en Dataset\n",
    "df_1[df_1[\"anomaly\"]==1]\n"
   ]
  },
  {
   "cell_type": "code",
   "execution_count": 27,
   "metadata": {},
   "outputs": [],
   "source": [
    "anom=df_1[df_1[\"anomaly\"] == 1]"
   ]
  },
  {
   "cell_type": "code",
   "execution_count": 28,
   "metadata": {},
   "outputs": [],
   "source": [
    "df_1[\"score\"] = (df_1[\"Error\"] - np.min(df_1.Error)) / (\n",
    "    np.max(df_1.Error) - np.min(df_1.Error)\n",
    ")"
   ]
  },
  {
   "cell_type": "code",
   "execution_count": 29,
   "metadata": {},
   "outputs": [
    {
     "data": {
      "text/plain": [
       "218    1.000000\n",
       "166    0.856050\n",
       "499    0.809927\n",
       "504    0.699352\n",
       "165    0.690805\n",
       "503    0.678018\n",
       "501    0.516782\n",
       "500    0.467294\n",
       "498    0.451193\n",
       "502    0.320366\n",
       "505    0.130338\n",
       "217    0.087193\n",
       "698    0.062002\n",
       "171    0.053025\n",
       "697    0.047259\n",
       "219    0.044410\n",
       "690    0.035460\n",
       "693    0.032122\n",
       "164    0.030717\n",
       "701    0.030059\n",
       "506    0.029430\n",
       "220    0.026765\n",
       "167    0.018200\n",
       "508    0.017142\n",
       "699    0.016658\n",
       "223    0.016239\n",
       "688    0.015073\n",
       "215    0.012597\n",
       "692    0.012090\n",
       "507    0.011946\n",
       "Name: score, dtype: float64"
      ]
     },
     "execution_count": 29,
     "metadata": {},
     "output_type": "execute_result"
    }
   ],
   "source": [
    "df_1[\"score\"].sort_values(ascending=False).head(30)"
   ]
  },
  {
   "cell_type": "code",
   "execution_count": 30,
   "metadata": {},
   "outputs": [
    {
     "data": {
      "image/png": "[encoded data removed]",
      "text/plain": [
       "<Figure size 500x500 with 1 Axes>"
      ]
     },
     "metadata": {},
     "output_type": "display_data"
    }
   ],
   "source": [
    "sns.displot(data=df_1, x=\"score\",bins=100)\n",
    "plt.axvline(0.2, color=\"red\", linewidth = 1, linestyle = \"dashed\",label=\"Umbral\");\n",
    "plt.legend(shadow=True)\n",
    "#plt.savefig(\"/Users/hn/OneDrive/Doctorado/Tesis/Proyecto Tesis/fig_examen/trans_umbral_27.pdf\")\n",
    "plt.show()"
   ]
  },
  {
   "cell_type": "code",
   "execution_count": 31,
   "metadata": {},
   "outputs": [],
   "source": [
    "umbral = 0.2"
   ]
  },
  {
   "cell_type": "code",
   "execution_count": 32,
   "metadata": {},
   "outputs": [],
   "source": [
    "df_1[\"pred_score\"] = np.where(df_1.score > umbral, 1, 0)"
   ]
  },
  {
   "cell_type": "code",
   "execution_count": 33,
   "metadata": {},
   "outputs": [
    {
     "data": {
      "text/html": [
       "<div>\n",
       "<style scoped>\n",
       "    .dataframe tbody tr th:only-of-type {\n",
       "        vertical-align: middle;\n",
       "    }\n",
       "\n",
       "    .dataframe tbody tr th {\n",
       "        vertical-align: top;\n",
       "    }\n",
       "\n",
       "    .dataframe thead th {\n",
       "        text-align: right;\n",
       "    }\n",
       "</style>\n",
       "<table border=\"1\" class=\"dataframe\">\n",
       "  <thead>\n",
       "    <tr style=\"text-align: right;\">\n",
       "      <th></th>\n",
       "      <th>real</th>\n",
       "      <th>pred</th>\n",
       "      <th>anomaly</th>\n",
       "      <th>Error</th>\n",
       "      <th>score</th>\n",
       "      <th>pred_score</th>\n",
       "    </tr>\n",
       "  </thead>\n",
       "  <tbody>\n",
       "    <tr>\n",
       "      <th>165</th>\n",
       "      <td>0.786611</td>\n",
       "      <td>0.060849</td>\n",
       "      <td>1</td>\n",
       "      <td>0.526731</td>\n",
       "      <td>0.690805</td>\n",
       "      <td>1</td>\n",
       "    </tr>\n",
       "    <tr>\n",
       "      <th>166</th>\n",
       "      <td>0.940028</td>\n",
       "      <td>0.132112</td>\n",
       "      <td>1</td>\n",
       "      <td>0.652728</td>\n",
       "      <td>0.856050</td>\n",
       "      <td>1</td>\n",
       "    </tr>\n",
       "    <tr>\n",
       "      <th>218</th>\n",
       "      <td>0.943340</td>\n",
       "      <td>0.070134</td>\n",
       "      <td>1</td>\n",
       "      <td>0.762488</td>\n",
       "      <td>1.000000</td>\n",
       "      <td>1</td>\n",
       "    </tr>\n",
       "    <tr>\n",
       "      <th>498</th>\n",
       "      <td>0.612971</td>\n",
       "      <td>0.026430</td>\n",
       "      <td>1</td>\n",
       "      <td>0.344030</td>\n",
       "      <td>0.451193</td>\n",
       "      <td>1</td>\n",
       "    </tr>\n",
       "    <tr>\n",
       "      <th>499</th>\n",
       "      <td>0.886855</td>\n",
       "      <td>0.101005</td>\n",
       "      <td>1</td>\n",
       "      <td>0.617560</td>\n",
       "      <td>0.809927</td>\n",
       "      <td>1</td>\n",
       "    </tr>\n",
       "    <tr>\n",
       "      <th>500</th>\n",
       "      <td>0.788354</td>\n",
       "      <td>0.191440</td>\n",
       "      <td>1</td>\n",
       "      <td>0.356307</td>\n",
       "      <td>0.467294</td>\n",
       "      <td>1</td>\n",
       "    </tr>\n",
       "    <tr>\n",
       "      <th>501</th>\n",
       "      <td>0.841353</td>\n",
       "      <td>0.213626</td>\n",
       "      <td>1</td>\n",
       "      <td>0.394041</td>\n",
       "      <td>0.516782</td>\n",
       "      <td>1</td>\n",
       "    </tr>\n",
       "    <tr>\n",
       "      <th>502</th>\n",
       "      <td>0.773710</td>\n",
       "      <td>0.279468</td>\n",
       "      <td>1</td>\n",
       "      <td>0.244275</td>\n",
       "      <td>0.320366</td>\n",
       "      <td>1</td>\n",
       "    </tr>\n",
       "    <tr>\n",
       "      <th>503</th>\n",
       "      <td>1.000000</td>\n",
       "      <td>0.280986</td>\n",
       "      <td>1</td>\n",
       "      <td>0.516981</td>\n",
       "      <td>0.678018</td>\n",
       "      <td>1</td>\n",
       "    </tr>\n",
       "    <tr>\n",
       "      <th>504</th>\n",
       "      <td>0.884066</td>\n",
       "      <td>0.153827</td>\n",
       "      <td>1</td>\n",
       "      <td>0.533248</td>\n",
       "      <td>0.699352</td>\n",
       "      <td>1</td>\n",
       "    </tr>\n",
       "  </tbody>\n",
       "</table>\n",
       "</div>"
      ],
      "text/plain": [
       "         real      pred  anomaly     Error     score  pred_score\n",
       "165  0.786611  0.060849        1  0.526731  0.690805           1\n",
       "166  0.940028  0.132112        1  0.652728  0.856050           1\n",
       "218  0.943340  0.070134        1  0.762488  1.000000           1\n",
       "498  0.612971  0.026430        1  0.344030  0.451193           1\n",
       "499  0.886855  0.101005        1  0.617560  0.809927           1\n",
       "500  0.788354  0.191440        1  0.356307  0.467294           1\n",
       "501  0.841353  0.213626        1  0.394041  0.516782           1\n",
       "502  0.773710  0.279468        1  0.244275  0.320366           1\n",
       "503  1.000000  0.280986        1  0.516981  0.678018           1\n",
       "504  0.884066  0.153827        1  0.533248  0.699352           1"
      ]
     },
     "execution_count": 33,
     "metadata": {},
     "output_type": "execute_result"
    }
   ],
   "source": [
    "df_1[df_1[\"pred_score\"] == 1]"
   ]
  },
  {
   "cell_type": "code",
   "execution_count": 34,
   "metadata": {},
   "outputs": [
    {
     "name": "stdout",
     "output_type": "stream",
     "text": [
      "              precision    recall  f1-score   support\n",
      "\n",
      "           0       1.00      1.00      1.00       692\n",
      "           1       1.00      1.00      1.00        10\n",
      "\n",
      "    accuracy                           1.00       702\n",
      "   macro avg       1.00      1.00      1.00       702\n",
      "weighted avg       1.00      1.00      1.00       702\n",
      "\n"
     ]
    }
   ],
   "source": [
    "print(classification_report(df_1.anomaly, df_1.pred_score))"
   ]
  },
  {
   "cell_type": "code",
   "execution_count": 35,
   "metadata": {},
   "outputs": [],
   "source": [
    "anom_score=df_1[df_1[\"pred_score\"] == 1]"
   ]
  },
  {
   "cell_type": "code",
   "execution_count": 36,
   "metadata": {},
   "outputs": [
    {
     "data": {
      "image/png": "[encoded data removed]",
      "text/plain": [
       "<Figure size 1000x600 with 1 Axes>"
      ]
     },
     "metadata": {},
     "output_type": "display_data"
    }
   ],
   "source": [
    "plt.figure(figsize=(10, 6))\n",
    "# plt.xlim(1900,2100)\n",
    "plt.plot(y_test_p, label=\"real\")\n",
    "plt.plot(pred,label=\"predicción\")\n",
    "plt.scatter(anom.index, anom.real, c=\"red\",label=\"anomalía\")\n",
    "#plt.scatter(anom_score.index, anom_score.real, c=\"#00ff80\", alpha=0.7,marker=\"*\",label=\"posible anomalía\")\n",
    "plt.legend(shadow=True)\n",
    "#plt.savefig(\"/Users/hn/OneDrive/Doctorado/Tesis/Proyecto Tesis/fig_examen/trans_score31.pdf\")\n",
    "plt.show()"
   ]
  }
 ],
 "metadata": {
  "colab": {
   "authorship_tag": "ABX9TyNn2AuzmDW/WaPDK7aimtjz",
   "collapsed_sections": [],
   "provenance": []
  },
  "kernelspec": {
   "display_name": "Python 3 (ipykernel)",
   "language": "python",
   "name": "python3"
  },
  "language_info": {
   "codemirror_mode": {
    "name": "ipython",
    "version": 3
   },
   "file_extension": ".py",
   "mimetype": "text/x-python",
   "name": "python",
   "nbconvert_exporter": "python",
   "pygments_lexer": "ipython3",
   "version": "3.9.12"
  }
 },
 "nbformat": 4,
 "nbformat_minor": 4
}
