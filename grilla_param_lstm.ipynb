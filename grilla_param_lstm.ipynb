{
 "cells": [
  {
   "cell_type": "code",
   "execution_count": 1,
   "id": "8fa8a303-9c80-4b53-b696-f6b307be1de5",
   "metadata": {},
   "outputs": [],
   "source": [
    "import glob\n",
    "import warnings\n",
    "from collections import Counter\n",
    "\n",
    "import matplotlib.pyplot as plt\n",
    "import numpy as np\n",
    "import pandas as pd\n",
    "import tensorflow\n",
    "import tensorflow as tf\n",
    "from keras.wrappers.scikit_learn import KerasRegressor\n",
    "from sklearn.model_selection import GridSearchCV, train_test_split\n",
    "from sklearn.preprocessing import MinMaxScaler\n",
    "from tensorflow import keras\n",
    "from tensorflow.keras import layers, models\n",
    "from tensorflow.keras.layers import (\n",
    "    LSTM,\n",
    "    BatchNormalization,\n",
    "    Dense,\n",
    "    Dropout,\n",
    "    Input,\n",
    "    RepeatVector,\n",
    "    TimeDistributed,\n",
    ")\n",
    "from tensorflow.keras.models import Sequential\n",
    "from tensorflow.keras.preprocessing.sequence import TimeseriesGenerator\n",
    "\n",
    "warnings.filterwarnings(\"ignore\")"
   ]
  },
  {
   "cell_type": "code",
   "execution_count": 2,
   "id": "63fa4bf8-7eea-4289-9780-e21c17143c12",
   "metadata": {},
   "outputs": [],
   "source": [
    "def data(base):\n",
    "    df = pd.read_csv(\n",
    "        \"/Users/hn/OneDrive/Doctorado/Tesis/Proyecto Tesis/Codigos/Yahoo/Dataset/A1Benchmark/\"\n",
    "        + base\n",
    "    )\n",
    "    values = df.iloc[:, 1:2]\n",
    "    target = df[\"is_anomaly\"]\n",
    "    test = int(len(df) * 0.5)\n",
    "    x_train = values[:test]\n",
    "    x_test = values[test : len(df)]\n",
    "    scaler = MinMaxScaler(feature_range=(0, 1))\n",
    "    scaled_data_p = scaler.fit_transform(x_train)\n",
    "    scaled_test = scaler.fit_transform(x_test)\n",
    "\n",
    "    x_train_p, y_train_p = [], []\n",
    "    for i in range(8, len(scaled_data_p)):\n",
    "        x_train_p.append(scaled_data_p[i - 8 : i])\n",
    "        y_train_p.append(scaled_data_p[i])\n",
    "    x_train_p, y_train_p = np.array(x_train_p), np.array(y_train_p)\n",
    "\n",
    "    x_test_p, y_test_p = [], []\n",
    "    for i in range(8, len(scaled_test)):\n",
    "        x_test_p.append(scaled_test[i - 8 : i])\n",
    "        y_test_p.append(scaled_test[i])\n",
    "    x_test_p, y_test_p = np.array(x_test_p), np.array(y_test_p)\n",
    "\n",
    "    return x_train_p, y_train_p, x_test_p, y_test_p"
   ]
  },
  {
   "cell_type": "code",
   "execution_count": 3,
   "id": "54959736-4563-406c-9780-888d5f5084d9",
   "metadata": {},
   "outputs": [],
   "source": [
    "def create_model(neurons, dropout, rec_drop, learning_rate=0.01):\n",
    "    model = tf.keras.Sequential()\n",
    "    model.add(\n",
    "        tf.keras.layers.LSTM(neurons * 4, input_shape=(8, 1), return_sequences=True)\n",
    "    )\n",
    "    model.add(tf.keras.layers.ReLU())\n",
    "    model.add(\n",
    "        tf.keras.layers.LSTM(\n",
    "            neurons * 2, recurrent_dropout=rec_drop, return_sequences=True\n",
    "        )\n",
    "    )\n",
    "    model.add(tf.keras.layers.ReLU())\n",
    "    model.add(tf.keras.layers.Dropout(dropout))\n",
    "    model.add(\n",
    "        tf.keras.layers.LSTM(neurons, recurrent_dropout=rec_drop, return_sequences=True)\n",
    "    )\n",
    "    model.add(tf.keras.layers.Dropout(dropout))\n",
    "    model.add(tf.keras.layers.Dense(1))\n",
    "\n",
    "    model.compile(\n",
    "        optimizer=tf.optimizers.Adam(learning_rate=learning_rate),\n",
    "        loss=tf.losses.MeanSquaredError(),\n",
    "    )\n",
    "    return model"
   ]
  },
  {
   "cell_type": "code",
   "execution_count": 4,
   "id": "f0d3ab9e-33c6-4454-8198-e8e11739ca45",
   "metadata": {},
   "outputs": [],
   "source": [
    "x_train_p, y_train_p, x_test_p, y_test_p = data(\"real_65.csv\")"
   ]
  },
  {
   "cell_type": "code",
   "execution_count": null,
   "id": "077e0907-0bac-4076-80a8-cddddcbcfd1d",
   "metadata": {},
   "outputs": [],
   "source": [
    "model = KerasRegressor(build_fn=create_model, epochs=150)\n",
    "\n",
    "callback = tf.keras.callbacks.EarlyStopping(\n",
    "    monitor=\"val_loss\", patience=20, restore_best_weights=True\n",
    ")\n",
    "\n",
    "batch_size = [80, 100]\n",
    "dropout = [0.15,0.2]\n",
    "rec_drop = [0.15, 0.2]\n",
    "neurons = [16, 32]\n",
    "learning_rate = [0.01, 0.001]\n",
    "param_grid = dict(\n",
    "    neurons=neurons,\n",
    "    dropout=dropout,\n",
    "    rec_drop=rec_drop,\n",
    "    learning_rate=learning_rate,\n",
    "    batch_size=batch_size,\n",
    ")\n",
    "\n",
    "grid = GridSearchCV(estimator=model, param_grid=param_grid, n_jobs=-1, cv=4)\n",
    "\n",
    "\n",
    "grid_result = grid.fit(x_train_p, y_train_p, validation_split=0.2, callbacks=[callback])"
   ]
  },
  {
   "cell_type": "code",
   "execution_count": 6,
   "id": "4a6dfc27-e1f6-45bb-a095-061236ac149e",
   "metadata": {},
   "outputs": [
    {
     "data": {
      "text/plain": [
       "-0.023526855278760195"
      ]
     },
     "execution_count": 6,
     "metadata": {},
     "output_type": "execute_result"
    }
   ],
   "source": [
    "grid_result.best_score_"
   ]
  },
  {
   "cell_type": "code",
   "execution_count": 7,
   "id": "df476d01-ac0a-4523-807f-36afca857ab4",
   "metadata": {},
   "outputs": [
    {
     "data": {
      "text/plain": [
       "{'batch_size': 100,\n",
       " 'dropout': 0.15,\n",
       " 'learning_rate': 0.01,\n",
       " 'neurons': 16,\n",
       " 'rec_drop': 0.15}"
      ]
     },
     "execution_count": 7,
     "metadata": {},
     "output_type": "execute_result"
    }
   ],
   "source": [
    "grid_result.best_params_"
   ]
  },
  {
   "cell_type": "code",
   "execution_count": 8,
   "id": "77d8963c-ff60-4b76-b7cc-aab55903596e",
   "metadata": {
    "tags": []
   },
   "outputs": [],
   "source": [
    "resul = pd.DataFrame(grid_result.cv_results_)"
   ]
  },
  {
   "cell_type": "code",
   "execution_count": 9,
   "id": "a30cb0da-352f-4e44-8177-3270d6947436",
   "metadata": {},
   "outputs": [],
   "source": [
    "#resul.to_excel(\"/Users/hn/OneDrive/Doctorado/Tesis/Proyecto Tesis/Codigos/Yahoo/Dataset/lstm_opt_65.xlsx\")"
   ]
  },
  {
   "cell_type": "code",
   "execution_count": null,
   "id": "3da85d5d-a289-41a0-a506-43851e5c4069",
   "metadata": {},
   "outputs": [],
   "source": []
  }
 ],
 "metadata": {
  "kernelspec": {
   "display_name": "Python 3 (ipykernel)",
   "language": "python",
   "name": "python3"
  },
  "language_info": {
   "codemirror_mode": {
    "name": "ipython",
    "version": 3
   },
   "file_extension": ".py",
   "mimetype": "text/x-python",
   "name": "python",
   "nbconvert_exporter": "python",
   "pygments_lexer": "ipython3",
   "version": "3.9.12"
  }
 },
 "nbformat": 4,
 "nbformat_minor": 5
}
