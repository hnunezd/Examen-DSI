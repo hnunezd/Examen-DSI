{
 "cells": [
  {
   "cell_type": "code",
   "execution_count": 1,
   "metadata": {
    "id": "vTPAaJJaYzyE"
   },
   "outputs": [],
   "source": [
    "import warnings\n",
    "from collections import Counter\n",
    "\n",
    "import matplotlib.pyplot as plt\n",
    "import numpy as np\n",
    "import pandas as pd\n",
    "import seaborn as sns\n",
    "\n",
    "warnings.filterwarnings(\"ignore\")"
   ]
  },
  {
   "cell_type": "code",
   "execution_count": 2,
   "metadata": {
    "id": "pWkAM59Y2lwM"
   },
   "outputs": [],
   "source": [
    "import seaborn as sns\n",
    "import tensorflow as tf\n",
    "from matplotlib import pyplot as plt\n",
    "from sklearn.metrics import classification_report\n",
    "from sklearn.model_selection import train_test_split\n",
    "from sklearn.preprocessing import MinMaxScaler, StandardScaler\n",
    "from tensorflow.keras.layers import (\n",
    "    LSTM,\n",
    "    BatchNormalization,\n",
    "    Dense,\n",
    "    Dropout,\n",
    "    Input,\n",
    "    RepeatVector,\n",
    "    TimeDistributed,\n",
    ")\n",
    "from tensorflow.keras.models import Model, Sequential"
   ]
  },
  {
   "cell_type": "code",
   "execution_count": 92,
   "metadata": {
    "colab": {
     "base_uri": "https://localhost:8080/",
     "height": 423
    },
    "executionInfo": {
     "elapsed": 301,
     "status": "ok",
     "timestamp": 1655912157620,
     "user": {
      "displayName": "Hugo Nuñez Delafuente",
      "userId": "07552315814755007738"
     },
     "user_tz": 240
    },
    "id": "H3goY2kvyZRj",
    "outputId": "dcf1c04e-b7bc-4409-dc75-7a2004aae941"
   },
   "outputs": [
    {
     "data": {
      "text/html": [
       "<div>\n",
       "<style scoped>\n",
       "    .dataframe tbody tr th:only-of-type {\n",
       "        vertical-align: middle;\n",
       "    }\n",
       "\n",
       "    .dataframe tbody tr th {\n",
       "        vertical-align: top;\n",
       "    }\n",
       "\n",
       "    .dataframe thead th {\n",
       "        text-align: right;\n",
       "    }\n",
       "</style>\n",
       "<table border=\"1\" class=\"dataframe\">\n",
       "  <thead>\n",
       "    <tr style=\"text-align: right;\">\n",
       "      <th></th>\n",
       "      <th>timestamp</th>\n",
       "      <th>value</th>\n",
       "      <th>is_anomaly</th>\n",
       "    </tr>\n",
       "  </thead>\n",
       "  <tbody>\n",
       "    <tr>\n",
       "      <th>0</th>\n",
       "      <td>1</td>\n",
       "      <td>0</td>\n",
       "      <td>0</td>\n",
       "    </tr>\n",
       "    <tr>\n",
       "      <th>1</th>\n",
       "      <td>2</td>\n",
       "      <td>4</td>\n",
       "      <td>0</td>\n",
       "    </tr>\n",
       "    <tr>\n",
       "      <th>2</th>\n",
       "      <td>3</td>\n",
       "      <td>145</td>\n",
       "      <td>0</td>\n",
       "    </tr>\n",
       "    <tr>\n",
       "      <th>3</th>\n",
       "      <td>4</td>\n",
       "      <td>179</td>\n",
       "      <td>0</td>\n",
       "    </tr>\n",
       "    <tr>\n",
       "      <th>4</th>\n",
       "      <td>5</td>\n",
       "      <td>163</td>\n",
       "      <td>0</td>\n",
       "    </tr>\n",
       "    <tr>\n",
       "      <th>...</th>\n",
       "      <td>...</td>\n",
       "      <td>...</td>\n",
       "      <td>...</td>\n",
       "    </tr>\n",
       "    <tr>\n",
       "      <th>1422</th>\n",
       "      <td>1423</td>\n",
       "      <td>1857</td>\n",
       "      <td>0</td>\n",
       "    </tr>\n",
       "    <tr>\n",
       "      <th>1423</th>\n",
       "      <td>1424</td>\n",
       "      <td>1716</td>\n",
       "      <td>0</td>\n",
       "    </tr>\n",
       "    <tr>\n",
       "      <th>1424</th>\n",
       "      <td>1425</td>\n",
       "      <td>1691</td>\n",
       "      <td>0</td>\n",
       "    </tr>\n",
       "    <tr>\n",
       "      <th>1425</th>\n",
       "      <td>1426</td>\n",
       "      <td>1804</td>\n",
       "      <td>0</td>\n",
       "    </tr>\n",
       "    <tr>\n",
       "      <th>1426</th>\n",
       "      <td>1427</td>\n",
       "      <td>2025</td>\n",
       "      <td>0</td>\n",
       "    </tr>\n",
       "  </tbody>\n",
       "</table>\n",
       "<p>1427 rows × 3 columns</p>\n",
       "</div>"
      ],
      "text/plain": [
       "      timestamp  value  is_anomaly\n",
       "0             1      0           0\n",
       "1             2      4           0\n",
       "2             3    145           0\n",
       "3             4    179           0\n",
       "4             5    163           0\n",
       "...         ...    ...         ...\n",
       "1422       1423   1857           0\n",
       "1423       1424   1716           0\n",
       "1424       1425   1691           0\n",
       "1425       1426   1804           0\n",
       "1426       1427   2025           0\n",
       "\n",
       "[1427 rows x 3 columns]"
      ]
     },
     "execution_count": 92,
     "metadata": {},
     "output_type": "execute_result"
    }
   ],
   "source": [
    "# https://raw.githubusercontent.com/hnunezd/DSI/main/real_1.csv\n",
    "# https://raw.githubusercontent.com/hnunezd/DSI/main/real_8.csv\n",
    "# https://raw.githubusercontent.com/hnunezd/DSI/main/real_65.csv\n",
    "# https://raw.githubusercontent.com/hnunezd/DSI/main/real_26.csv\n",
    "# https://raw.githubusercontent.com/hnunezd/DSI/main/real_27.csv\n",
    "# https://raw.githubusercontent.com/hnunezd/DSI/main/real_31.csv\n",
    "\n",
    "url = \"https://raw.githubusercontent.com/hnunezd/DSI/main/real_31.csv\"\n",
    "df = pd.read_csv(url)\n",
    "df"
   ]
  },
  {
   "cell_type": "code",
   "execution_count": 93,
   "metadata": {
    "id": "nSoqtrOY7q6I"
   },
   "outputs": [],
   "source": [
    "anomaly = df[df[\"is_anomaly\"] == 1]"
   ]
  },
  {
   "cell_type": "code",
   "execution_count": 94,
   "metadata": {
    "id": "nSoqtrOY7q6I"
   },
   "outputs": [
    {
     "data": {
      "text/html": [
       "<div>\n",
       "<style scoped>\n",
       "    .dataframe tbody tr th:only-of-type {\n",
       "        vertical-align: middle;\n",
       "    }\n",
       "\n",
       "    .dataframe tbody tr th {\n",
       "        vertical-align: top;\n",
       "    }\n",
       "\n",
       "    .dataframe thead th {\n",
       "        text-align: right;\n",
       "    }\n",
       "</style>\n",
       "<table border=\"1\" class=\"dataframe\">\n",
       "  <thead>\n",
       "    <tr style=\"text-align: right;\">\n",
       "      <th></th>\n",
       "      <th>timestamp</th>\n",
       "      <th>value</th>\n",
       "      <th>is_anomaly</th>\n",
       "    </tr>\n",
       "  </thead>\n",
       "  <tbody>\n",
       "    <tr>\n",
       "      <th>1221</th>\n",
       "      <td>1222</td>\n",
       "      <td>1266</td>\n",
       "      <td>1</td>\n",
       "    </tr>\n",
       "    <tr>\n",
       "      <th>1222</th>\n",
       "      <td>1223</td>\n",
       "      <td>2615</td>\n",
       "      <td>1</td>\n",
       "    </tr>\n",
       "    <tr>\n",
       "      <th>1223</th>\n",
       "      <td>1224</td>\n",
       "      <td>2315</td>\n",
       "      <td>1</td>\n",
       "    </tr>\n",
       "    <tr>\n",
       "      <th>1224</th>\n",
       "      <td>1225</td>\n",
       "      <td>2341</td>\n",
       "      <td>1</td>\n",
       "    </tr>\n",
       "    <tr>\n",
       "      <th>1225</th>\n",
       "      <td>1226</td>\n",
       "      <td>2153</td>\n",
       "      <td>1</td>\n",
       "    </tr>\n",
       "    <tr>\n",
       "      <th>1226</th>\n",
       "      <td>1227</td>\n",
       "      <td>2125</td>\n",
       "      <td>1</td>\n",
       "    </tr>\n",
       "    <tr>\n",
       "      <th>1227</th>\n",
       "      <td>1228</td>\n",
       "      <td>2242</td>\n",
       "      <td>1</td>\n",
       "    </tr>\n",
       "    <tr>\n",
       "      <th>1228</th>\n",
       "      <td>1229</td>\n",
       "      <td>2089</td>\n",
       "      <td>1</td>\n",
       "    </tr>\n",
       "    <tr>\n",
       "      <th>1229</th>\n",
       "      <td>1230</td>\n",
       "      <td>2143</td>\n",
       "      <td>1</td>\n",
       "    </tr>\n",
       "    <tr>\n",
       "      <th>1230</th>\n",
       "      <td>1231</td>\n",
       "      <td>2322</td>\n",
       "      <td>1</td>\n",
       "    </tr>\n",
       "    <tr>\n",
       "      <th>1231</th>\n",
       "      <td>1232</td>\n",
       "      <td>2201</td>\n",
       "      <td>1</td>\n",
       "    </tr>\n",
       "    <tr>\n",
       "      <th>1232</th>\n",
       "      <td>1233</td>\n",
       "      <td>2076</td>\n",
       "      <td>1</td>\n",
       "    </tr>\n",
       "    <tr>\n",
       "      <th>1233</th>\n",
       "      <td>1234</td>\n",
       "      <td>2135</td>\n",
       "      <td>1</td>\n",
       "    </tr>\n",
       "    <tr>\n",
       "      <th>1234</th>\n",
       "      <td>1235</td>\n",
       "      <td>2310</td>\n",
       "      <td>1</td>\n",
       "    </tr>\n",
       "    <tr>\n",
       "      <th>1235</th>\n",
       "      <td>1236</td>\n",
       "      <td>2510</td>\n",
       "      <td>1</td>\n",
       "    </tr>\n",
       "    <tr>\n",
       "      <th>1236</th>\n",
       "      <td>1237</td>\n",
       "      <td>2391</td>\n",
       "      <td>1</td>\n",
       "    </tr>\n",
       "    <tr>\n",
       "      <th>1237</th>\n",
       "      <td>1238</td>\n",
       "      <td>2330</td>\n",
       "      <td>1</td>\n",
       "    </tr>\n",
       "    <tr>\n",
       "      <th>1238</th>\n",
       "      <td>1239</td>\n",
       "      <td>2113</td>\n",
       "      <td>1</td>\n",
       "    </tr>\n",
       "    <tr>\n",
       "      <th>1239</th>\n",
       "      <td>1240</td>\n",
       "      <td>1949</td>\n",
       "      <td>1</td>\n",
       "    </tr>\n",
       "    <tr>\n",
       "      <th>1240</th>\n",
       "      <td>1241</td>\n",
       "      <td>1641</td>\n",
       "      <td>1</td>\n",
       "    </tr>\n",
       "    <tr>\n",
       "      <th>1241</th>\n",
       "      <td>1242</td>\n",
       "      <td>1534</td>\n",
       "      <td>1</td>\n",
       "    </tr>\n",
       "    <tr>\n",
       "      <th>1242</th>\n",
       "      <td>1243</td>\n",
       "      <td>1551</td>\n",
       "      <td>1</td>\n",
       "    </tr>\n",
       "    <tr>\n",
       "      <th>1243</th>\n",
       "      <td>1244</td>\n",
       "      <td>1501</td>\n",
       "      <td>1</td>\n",
       "    </tr>\n",
       "    <tr>\n",
       "      <th>1306</th>\n",
       "      <td>1307</td>\n",
       "      <td>4</td>\n",
       "      <td>1</td>\n",
       "    </tr>\n",
       "  </tbody>\n",
       "</table>\n",
       "</div>"
      ],
      "text/plain": [
       "      timestamp  value  is_anomaly\n",
       "1221       1222   1266           1\n",
       "1222       1223   2615           1\n",
       "1223       1224   2315           1\n",
       "1224       1225   2341           1\n",
       "1225       1226   2153           1\n",
       "1226       1227   2125           1\n",
       "1227       1228   2242           1\n",
       "1228       1229   2089           1\n",
       "1229       1230   2143           1\n",
       "1230       1231   2322           1\n",
       "1231       1232   2201           1\n",
       "1232       1233   2076           1\n",
       "1233       1234   2135           1\n",
       "1234       1235   2310           1\n",
       "1235       1236   2510           1\n",
       "1236       1237   2391           1\n",
       "1237       1238   2330           1\n",
       "1238       1239   2113           1\n",
       "1239       1240   1949           1\n",
       "1240       1241   1641           1\n",
       "1241       1242   1534           1\n",
       "1242       1243   1551           1\n",
       "1243       1244   1501           1\n",
       "1306       1307      4           1"
      ]
     },
     "execution_count": 94,
     "metadata": {},
     "output_type": "execute_result"
    }
   ],
   "source": [
    "anomaly"
   ]
  },
  {
   "cell_type": "code",
   "execution_count": 95,
   "metadata": {
    "colab": {
     "base_uri": "https://localhost:8080/",
     "height": 810
    },
    "executionInfo": {
     "elapsed": 368,
     "status": "ok",
     "timestamp": 1655912228348,
     "user": {
      "displayName": "Hugo Nuñez Delafuente",
      "userId": "07552315814755007738"
     },
     "user_tz": 240
    },
    "id": "cufvpTs8zjJL",
    "outputId": "640b259c-d421-42b2-c01e-e5275d3d263b"
   },
   "outputs": [
    {
     "data": {
      "image/png": "[encoded data removed]",
      "text/plain": [
       "<Figure size 1000x600 with 1 Axes>"
      ]
     },
     "metadata": {},
     "output_type": "display_data"
    }
   ],
   "source": [
    "plt.figure(figsize=(10, 6))\n",
    "plt.plot(df[\"value\"])\n",
    "plt.scatter(anomaly[\"timestamp\"], anomaly[\"value\"], c=\"red\")\n",
    "plt.show()"
   ]
  },
  {
   "cell_type": "code",
   "execution_count": 96,
   "metadata": {
    "id": "BNsiivdB2v6d"
   },
   "outputs": [],
   "source": [
    "values = df.iloc[:, 1:2]\n",
    "target = df[\"is_anomaly\"]"
   ]
  },
  {
   "cell_type": "code",
   "execution_count": 97,
   "metadata": {},
   "outputs": [],
   "source": [
    "test = len(df) - 560"
   ]
  },
  {
   "cell_type": "code",
   "execution_count": 98,
   "metadata": {
    "id": "zJXM60Np4BSj"
   },
   "outputs": [],
   "source": [
    "x_train = values[:test]\n",
    "x_test = values[test : len(df)]"
   ]
  },
  {
   "cell_type": "code",
   "execution_count": 99,
   "metadata": {
    "id": "R-Jy51DBzw0o"
   },
   "outputs": [],
   "source": [
    "scaler = MinMaxScaler(feature_range=(0, 1))\n",
    "scaled_data_p = scaler.fit_transform(x_train)"
   ]
  },
  {
   "cell_type": "code",
   "execution_count": 100,
   "metadata": {
    "id": "SG_25msnzwsT"
   },
   "outputs": [],
   "source": [
    "scaled_test = scaler.fit_transform(x_test)"
   ]
  },
  {
   "cell_type": "code",
   "execution_count": 101,
   "metadata": {
    "id": "cOk9NiFh5SpG"
   },
   "outputs": [],
   "source": [
    "def to_sequences(x, seq_size=1):\n",
    "    x_values = []\n",
    "    for i in range(len(x) - seq_size):\n",
    "        x_values.append(scaled_data_p[i : (i + seq_size)])\n",
    "    return np.array(x_values)"
   ]
  },
  {
   "cell_type": "code",
   "execution_count": 102,
   "metadata": {
    "id": "nDFNfXoznugz"
   },
   "outputs": [],
   "source": [
    "def to_sequences_test(x, seq_size=1):\n",
    "    x_values = []\n",
    "    for i in range(round(len(x) / seq_size)):\n",
    "        x_values.append(scaled_test[i * seq_size : ((1 + i) * seq_size)])\n",
    "    return np.array(x_values)"
   ]
  },
  {
   "cell_type": "code",
   "execution_count": 103,
   "metadata": {
    "id": "oGpyCAKI6Gbs"
   },
   "outputs": [],
   "source": [
    "seq_size = 8"
   ]
  },
  {
   "cell_type": "code",
   "execution_count": 104,
   "metadata": {
    "id": "_J1YhYOJ57M7"
   },
   "outputs": [],
   "source": [
    "trainX = to_sequences(x_train, seq_size)\n",
    "testX = to_sequences_test(x_test, seq_size)"
   ]
  },
  {
   "cell_type": "code",
   "execution_count": 105,
   "metadata": {},
   "outputs": [
    {
     "data": {
      "text/plain": [
       "(70, 8, 1)"
      ]
     },
     "execution_count": 105,
     "metadata": {},
     "output_type": "execute_result"
    }
   ],
   "source": [
    "testX.shape"
   ]
  },
  {
   "cell_type": "code",
   "execution_count": 139,
   "metadata": {
    "id": "QU-IekKg2nkA"
   },
   "outputs": [],
   "source": [
    "model = tf.keras.Sequential()\n",
    "model.add(\n",
    "    tf.keras.layers.LSTM(\n",
    "        128, input_shape=(testX.shape[1], testX.shape[2]), return_sequences=True\n",
    "    )\n",
    ")\n",
    "model.add(tf.keras.layers.ReLU())\n",
    "model.add(tf.keras.layers.LSTM(64, recurrent_dropout=0.2, return_sequences=True))\n",
    "model.add(tf.keras.layers.ReLU())\n",
    "model.add(tf.keras.layers.Dropout(0.15))\n",
    "model.add(tf.keras.layers.LSTM(32, recurrent_dropout=0.2, return_sequences=False))\n",
    "model.add(tf.keras.layers.ReLU())\n",
    "model.add(tf.keras.layers.Dropout(0.15))\n",
    "model.add(tf.keras.layers.RepeatVector(testX.shape[1]))\n",
    "model.add(tf.keras.layers.LSTM(32, recurrent_dropout=0.2, return_sequences=True))\n",
    "model.add(tf.keras.layers.ReLU())\n",
    "model.add(tf.keras.layers.Dropout(0.15))\n",
    "model.add(tf.keras.layers.LSTM(64, recurrent_dropout=0.2, return_sequences=True))\n",
    "model.add(tf.keras.layers.ReLU())\n",
    "model.add(tf.keras.layers.Dropout(0.15))\n",
    "model.add(tf.keras.layers.LSTM(128, return_sequences=True))\n",
    "model.add(tf.keras.layers.ReLU())\n",
    "model.add(TimeDistributed(Dense(testX.shape[2])))"
   ]
  },
  {
   "cell_type": "code",
   "execution_count": 172,
   "metadata": {
    "colab": {
     "base_uri": "https://localhost:8080/"
    },
    "executionInfo": {
     "elapsed": 836,
     "status": "ok",
     "timestamp": 1655912246274,
     "user": {
      "displayName": "Hugo Nuñez Delafuente",
      "userId": "07552315814755007738"
     },
     "user_tz": 240
    },
    "id": "t4LVTALepU3t",
    "outputId": "3d953b3d-4fab-433d-e764-12e8934f73fc"
   },
   "outputs": [
    {
     "name": "stdout",
     "output_type": "stream",
     "text": [
      "Model: \"sequential_4\"\n",
      "_________________________________________________________________\n",
      " Layer (type)                Output Shape              Param #   \n",
      "=================================================================\n",
      " lstm_24 (LSTM)              (None, 8, 128)            66560     \n",
      "                                                                 \n",
      " re_lu_24 (ReLU)             (None, 8, 128)            0         \n",
      "                                                                 \n",
      " lstm_25 (LSTM)              (None, 8, 64)             49408     \n",
      "                                                                 \n",
      " re_lu_25 (ReLU)             (None, 8, 64)             0         \n",
      "                                                                 \n",
      " dropout_16 (Dropout)        (None, 8, 64)             0         \n",
      "                                                                 \n",
      " lstm_26 (LSTM)              (None, 32)                12416     \n",
      "                                                                 \n",
      " re_lu_26 (ReLU)             (None, 32)                0         \n",
      "                                                                 \n",
      " dropout_17 (Dropout)        (None, 32)                0         \n",
      "                                                                 \n",
      " repeat_vector_4 (RepeatVect  (None, 8, 32)            0         \n",
      " or)                                                             \n",
      "                                                                 \n",
      " lstm_27 (LSTM)              (None, 8, 32)             8320      \n",
      "                                                                 \n",
      " re_lu_27 (ReLU)             (None, 8, 32)             0         \n",
      "                                                                 \n",
      " dropout_18 (Dropout)        (None, 8, 32)             0         \n",
      "                                                                 \n",
      " lstm_28 (LSTM)              (None, 8, 64)             24832     \n",
      "                                                                 \n",
      " re_lu_28 (ReLU)             (None, 8, 64)             0         \n",
      "                                                                 \n",
      " dropout_19 (Dropout)        (None, 8, 64)             0         \n",
      "                                                                 \n",
      " lstm_29 (LSTM)              (None, 8, 128)            98816     \n",
      "                                                                 \n",
      " re_lu_29 (ReLU)             (None, 8, 128)            0         \n",
      "                                                                 \n",
      " time_distributed_4 (TimeDis  (None, 8, 1)             129       \n",
      " tributed)                                                       \n",
      "                                                                 \n",
      "=================================================================\n",
      "Total params: 260,481\n",
      "Trainable params: 260,481\n",
      "Non-trainable params: 0\n",
      "_________________________________________________________________\n"
     ]
    }
   ],
   "source": [
    "model.summary()"
   ]
  },
  {
   "cell_type": "code",
   "execution_count": 173,
   "metadata": {
    "colab": {
     "base_uri": "https://localhost:8080/"
    },
    "executionInfo": {
     "elapsed": 39466,
     "status": "ok",
     "timestamp": 1655912288365,
     "user": {
      "displayName": "Hugo Nuñez Delafuente",
      "userId": "07552315814755007738"
     },
     "user_tz": 240
    },
    "id": "m3hA6sNY632d",
    "outputId": "b014e4ec-74b9-4d7b-cee1-e7ba266aee50"
   },
   "outputs": [
    {
     "name": "stdout",
     "output_type": "stream",
     "text": [
      "Epoch 1/200\n",
      "9/9 [==============================] - 17s 318ms/step - loss: 0.0039 - mean_absolute_error: 0.0448 - val_loss: 0.0017 - val_mean_absolute_error: 0.0321\n",
      "Epoch 2/200\n",
      "9/9 [==============================] - 1s 69ms/step - loss: 0.0028 - mean_absolute_error: 0.0374 - val_loss: 0.0016 - val_mean_absolute_error: 0.0284\n",
      "Epoch 3/200\n",
      "9/9 [==============================] - 1s 69ms/step - loss: 0.0037 - mean_absolute_error: 0.0408 - val_loss: 0.0015 - val_mean_absolute_error: 0.0269\n",
      "Epoch 4/200\n",
      "9/9 [==============================] - 1s 65ms/step - loss: 0.0037 - mean_absolute_error: 0.0430 - val_loss: 0.0016 - val_mean_absolute_error: 0.0317\n",
      "Epoch 5/200\n",
      "9/9 [==============================] - 1s 63ms/step - loss: 0.0035 - mean_absolute_error: 0.0407 - val_loss: 0.0016 - val_mean_absolute_error: 0.0290\n",
      "Epoch 6/200\n",
      "9/9 [==============================] - 1s 64ms/step - loss: 0.0032 - mean_absolute_error: 0.0413 - val_loss: 0.0016 - val_mean_absolute_error: 0.0310\n",
      "Epoch 7/200\n",
      "9/9 [==============================] - 1s 64ms/step - loss: 0.0036 - mean_absolute_error: 0.0419 - val_loss: 0.0018 - val_mean_absolute_error: 0.0301\n",
      "Epoch 8/200\n",
      "9/9 [==============================] - 1s 65ms/step - loss: 0.0036 - mean_absolute_error: 0.0436 - val_loss: 0.0019 - val_mean_absolute_error: 0.0340\n",
      "Epoch 9/200\n",
      "9/9 [==============================] - 1s 63ms/step - loss: 0.0038 - mean_absolute_error: 0.0430 - val_loss: 0.0019 - val_mean_absolute_error: 0.0319\n",
      "Epoch 10/200\n",
      "9/9 [==============================] - 1s 65ms/step - loss: 0.0033 - mean_absolute_error: 0.0415 - val_loss: 0.0019 - val_mean_absolute_error: 0.0327\n",
      "Epoch 11/200\n",
      "9/9 [==============================] - 1s 64ms/step - loss: 0.0029 - mean_absolute_error: 0.0371 - val_loss: 0.0015 - val_mean_absolute_error: 0.0280\n",
      "Epoch 12/200\n",
      "9/9 [==============================] - 1s 65ms/step - loss: 0.0032 - mean_absolute_error: 0.0390 - val_loss: 0.0016 - val_mean_absolute_error: 0.0288\n",
      "Epoch 13/200\n",
      "9/9 [==============================] - 1s 65ms/step - loss: 0.0031 - mean_absolute_error: 0.0405 - val_loss: 0.0018 - val_mean_absolute_error: 0.0332\n",
      "Epoch 14/200\n",
      "9/9 [==============================] - 1s 63ms/step - loss: 0.0026 - mean_absolute_error: 0.0357 - val_loss: 0.0014 - val_mean_absolute_error: 0.0275\n",
      "Epoch 15/200\n",
      "9/9 [==============================] - 1s 65ms/step - loss: 0.0028 - mean_absolute_error: 0.0361 - val_loss: 0.0015 - val_mean_absolute_error: 0.0275\n",
      "Epoch 16/200\n",
      "9/9 [==============================] - 1s 63ms/step - loss: 0.0027 - mean_absolute_error: 0.0371 - val_loss: 0.0015 - val_mean_absolute_error: 0.0301\n",
      "Epoch 17/200\n",
      "9/9 [==============================] - 1s 65ms/step - loss: 0.0029 - mean_absolute_error: 0.0370 - val_loss: 0.0014 - val_mean_absolute_error: 0.0284\n",
      "Epoch 18/200\n",
      "9/9 [==============================] - 1s 68ms/step - loss: 0.0036 - mean_absolute_error: 0.0431 - val_loss: 0.0019 - val_mean_absolute_error: 0.0316\n",
      "Epoch 19/200\n",
      "9/9 [==============================] - 1s 65ms/step - loss: 0.0030 - mean_absolute_error: 0.0400 - val_loss: 0.0019 - val_mean_absolute_error: 0.0345\n",
      "Epoch 20/200\n",
      "9/9 [==============================] - 1s 66ms/step - loss: 0.0038 - mean_absolute_error: 0.0427 - val_loss: 0.0017 - val_mean_absolute_error: 0.0320\n",
      "Epoch 21/200\n",
      "9/9 [==============================] - 1s 70ms/step - loss: 0.0040 - mean_absolute_error: 0.0457 - val_loss: 0.0021 - val_mean_absolute_error: 0.0338\n",
      "Epoch 22/200\n",
      "9/9 [==============================] - 1s 64ms/step - loss: 0.0033 - mean_absolute_error: 0.0409 - val_loss: 0.0018 - val_mean_absolute_error: 0.0321\n",
      "Epoch 23/200\n",
      "9/9 [==============================] - 1s 66ms/step - loss: 0.0040 - mean_absolute_error: 0.0439 - val_loss: 0.0018 - val_mean_absolute_error: 0.0332\n",
      "Epoch 24/200\n",
      "9/9 [==============================] - 1s 63ms/step - loss: 0.0042 - mean_absolute_error: 0.0462 - val_loss: 0.0021 - val_mean_absolute_error: 0.0332\n",
      "Epoch 25/200\n",
      "9/9 [==============================] - 1s 65ms/step - loss: 0.0032 - mean_absolute_error: 0.0418 - val_loss: 0.0020 - val_mean_absolute_error: 0.0362\n",
      "Epoch 26/200\n",
      "9/9 [==============================] - 1s 65ms/step - loss: 0.0027 - mean_absolute_error: 0.0364 - val_loss: 0.0014 - val_mean_absolute_error: 0.0274\n",
      "Epoch 27/200\n",
      "9/9 [==============================] - 1s 65ms/step - loss: 0.0030 - mean_absolute_error: 0.0370 - val_loss: 0.0015 - val_mean_absolute_error: 0.0275\n",
      "Epoch 28/200\n",
      "9/9 [==============================] - 1s 67ms/step - loss: 0.0032 - mean_absolute_error: 0.0394 - val_loss: 0.0016 - val_mean_absolute_error: 0.0307\n",
      "Epoch 29/200\n",
      "9/9 [==============================] - 1s 68ms/step - loss: 0.0038 - mean_absolute_error: 0.0434 - val_loss: 0.0018 - val_mean_absolute_error: 0.0310\n",
      "Epoch 30/200\n",
      "9/9 [==============================] - 1s 70ms/step - loss: 0.0031 - mean_absolute_error: 0.0406 - val_loss: 0.0017 - val_mean_absolute_error: 0.0332\n",
      "Epoch 31/200\n",
      "9/9 [==============================] - 1s 67ms/step - loss: 0.0026 - mean_absolute_error: 0.0357 - val_loss: 0.0014 - val_mean_absolute_error: 0.0272\n",
      "Epoch 32/200\n",
      "9/9 [==============================] - 1s 72ms/step - loss: 0.0028 - mean_absolute_error: 0.0359 - val_loss: 0.0014 - val_mean_absolute_error: 0.0273\n",
      "Epoch 33/200\n",
      "9/9 [==============================] - 1s 66ms/step - loss: 0.0028 - mean_absolute_error: 0.0364 - val_loss: 0.0015 - val_mean_absolute_error: 0.0289\n",
      "Epoch 34/200\n",
      "9/9 [==============================] - 1s 65ms/step - loss: 0.0029 - mean_absolute_error: 0.0375 - val_loss: 0.0015 - val_mean_absolute_error: 0.0280\n",
      "Epoch 35/200\n",
      "9/9 [==============================] - 1s 65ms/step - loss: 0.0026 - mean_absolute_error: 0.0362 - val_loss: 0.0015 - val_mean_absolute_error: 0.0292\n",
      "Epoch 36/200\n",
      "9/9 [==============================] - 1s 66ms/step - loss: 0.0028 - mean_absolute_error: 0.0362 - val_loss: 0.0013 - val_mean_absolute_error: 0.0268\n",
      "Epoch 37/200\n",
      "9/9 [==============================] - 1s 66ms/step - loss: 0.0039 - mean_absolute_error: 0.0430 - val_loss: 0.0018 - val_mean_absolute_error: 0.0300\n",
      "Epoch 38/200\n",
      "9/9 [==============================] - 1s 70ms/step - loss: 0.0034 - mean_absolute_error: 0.0415 - val_loss: 0.0018 - val_mean_absolute_error: 0.0333\n",
      "Epoch 39/200\n",
      "9/9 [==============================] - 1s 70ms/step - loss: 0.0029 - mean_absolute_error: 0.0374 - val_loss: 0.0015 - val_mean_absolute_error: 0.0281\n",
      "Epoch 40/200\n",
      "9/9 [==============================] - 1s 64ms/step - loss: 0.0027 - mean_absolute_error: 0.0367 - val_loss: 0.0015 - val_mean_absolute_error: 0.0279\n",
      "Epoch 41/200\n",
      "9/9 [==============================] - 1s 66ms/step - loss: 0.0027 - mean_absolute_error: 0.0358 - val_loss: 0.0015 - val_mean_absolute_error: 0.0281\n",
      "Epoch 42/200\n",
      "9/9 [==============================] - 1s 66ms/step - loss: 0.0027 - mean_absolute_error: 0.0353 - val_loss: 0.0015 - val_mean_absolute_error: 0.0274\n",
      "Epoch 43/200\n",
      "9/9 [==============================] - 1s 66ms/step - loss: 0.0031 - mean_absolute_error: 0.0395 - val_loss: 0.0016 - val_mean_absolute_error: 0.0317\n",
      "Epoch 44/200\n",
      "9/9 [==============================] - 1s 68ms/step - loss: 0.0031 - mean_absolute_error: 0.0394 - val_loss: 0.0018 - val_mean_absolute_error: 0.0305\n",
      "Epoch 45/200\n",
      "9/9 [==============================] - 1s 66ms/step - loss: 0.0026 - mean_absolute_error: 0.0367 - val_loss: 0.0016 - val_mean_absolute_error: 0.0313\n",
      "Epoch 46/200\n",
      "9/9 [==============================] - 1s 65ms/step - loss: 0.0025 - mean_absolute_error: 0.0346 - val_loss: 0.0013 - val_mean_absolute_error: 0.0267\n",
      "Epoch 47/200\n",
      "9/9 [==============================] - 1s 63ms/step - loss: 0.0024 - mean_absolute_error: 0.0340 - val_loss: 0.0013 - val_mean_absolute_error: 0.0261\n",
      "Epoch 48/200\n",
      "9/9 [==============================] - 1s 66ms/step - loss: 0.0025 - mean_absolute_error: 0.0341 - val_loss: 0.0013 - val_mean_absolute_error: 0.0257\n",
      "Epoch 49/200\n",
      "9/9 [==============================] - 1s 66ms/step - loss: 0.0026 - mean_absolute_error: 0.0352 - val_loss: 0.0013 - val_mean_absolute_error: 0.0275\n",
      "Epoch 50/200\n",
      "9/9 [==============================] - 1s 64ms/step - loss: 0.0025 - mean_absolute_error: 0.0349 - val_loss: 0.0013 - val_mean_absolute_error: 0.0261\n",
      "Epoch 51/200\n",
      "9/9 [==============================] - 1s 65ms/step - loss: 0.0025 - mean_absolute_error: 0.0342 - val_loss: 0.0013 - val_mean_absolute_error: 0.0258\n",
      "Epoch 52/200\n",
      "9/9 [==============================] - 1s 66ms/step - loss: 0.0025 - mean_absolute_error: 0.0350 - val_loss: 0.0013 - val_mean_absolute_error: 0.0267\n",
      "Epoch 53/200\n",
      "9/9 [==============================] - 1s 67ms/step - loss: 0.0028 - mean_absolute_error: 0.0359 - val_loss: 0.0013 - val_mean_absolute_error: 0.0274\n",
      "Epoch 54/200\n",
      "9/9 [==============================] - 1s 64ms/step - loss: 0.0039 - mean_absolute_error: 0.0448 - val_loss: 0.0018 - val_mean_absolute_error: 0.0312\n",
      "Epoch 55/200\n",
      "9/9 [==============================] - 1s 70ms/step - loss: 0.0031 - mean_absolute_error: 0.0416 - val_loss: 0.0019 - val_mean_absolute_error: 0.0348\n",
      "Epoch 56/200\n",
      "9/9 [==============================] - 1s 64ms/step - loss: 0.0031 - mean_absolute_error: 0.0389 - val_loss: 0.0015 - val_mean_absolute_error: 0.0287\n",
      "Epoch 57/200\n",
      "9/9 [==============================] - 1s 66ms/step - loss: 0.0028 - mean_absolute_error: 0.0373 - val_loss: 0.0016 - val_mean_absolute_error: 0.0285\n",
      "Epoch 58/200\n",
      "9/9 [==============================] - 1s 66ms/step - loss: 0.0026 - mean_absolute_error: 0.0357 - val_loss: 0.0014 - val_mean_absolute_error: 0.0276\n",
      "Epoch 59/200\n",
      "9/9 [==============================] - 1s 62ms/step - loss: 0.0027 - mean_absolute_error: 0.0358 - val_loss: 0.0014 - val_mean_absolute_error: 0.0284\n",
      "Epoch 60/200\n",
      "9/9 [==============================] - 1s 65ms/step - loss: 0.0028 - mean_absolute_error: 0.0375 - val_loss: 0.0016 - val_mean_absolute_error: 0.0285\n",
      "Epoch 61/200\n",
      "9/9 [==============================] - 1s 67ms/step - loss: 0.0026 - mean_absolute_error: 0.0364 - val_loss: 0.0015 - val_mean_absolute_error: 0.0292\n",
      "Epoch 62/200\n",
      "9/9 [==============================] - 1s 66ms/step - loss: 0.0025 - mean_absolute_error: 0.0342 - val_loss: 0.0013 - val_mean_absolute_error: 0.0263\n",
      "Epoch 63/200\n",
      "9/9 [==============================] - 1s 69ms/step - loss: 0.0026 - mean_absolute_error: 0.0348 - val_loss: 0.0014 - val_mean_absolute_error: 0.0266\n",
      "Epoch 64/200\n",
      "9/9 [==============================] - 1s 67ms/step - loss: 0.0025 - mean_absolute_error: 0.0350 - val_loss: 0.0013 - val_mean_absolute_error: 0.0269\n",
      "Epoch 65/200\n",
      "9/9 [==============================] - 1s 64ms/step - loss: 0.0025 - mean_absolute_error: 0.0346 - val_loss: 0.0013 - val_mean_absolute_error: 0.0267\n",
      "Epoch 66/200\n",
      "9/9 [==============================] - 1s 65ms/step - loss: 0.0027 - mean_absolute_error: 0.0366 - val_loss: 0.0015 - val_mean_absolute_error: 0.0274\n",
      "Epoch 67/200\n",
      "9/9 [==============================] - 1s 65ms/step - loss: 0.0026 - mean_absolute_error: 0.0356 - val_loss: 0.0014 - val_mean_absolute_error: 0.0270\n",
      "Epoch 68/200\n",
      "9/9 [==============================] - 1s 73ms/step - loss: 0.0030 - mean_absolute_error: 0.0377 - val_loss: 0.0014 - val_mean_absolute_error: 0.0292\n",
      "Epoch 69/200\n",
      "9/9 [==============================] - 1s 65ms/step - loss: 0.0030 - mean_absolute_error: 0.0393 - val_loss: 0.0016 - val_mean_absolute_error: 0.0289\n",
      "Epoch 70/200\n",
      "9/9 [==============================] - 1s 63ms/step - loss: 0.0027 - mean_absolute_error: 0.0369 - val_loss: 0.0015 - val_mean_absolute_error: 0.0287\n",
      "Epoch 71/200\n",
      "9/9 [==============================] - 1s 63ms/step - loss: 0.0029 - mean_absolute_error: 0.0380 - val_loss: 0.0015 - val_mean_absolute_error: 0.0301\n",
      "Epoch 72/200\n",
      "9/9 [==============================] - 1s 64ms/step - loss: 0.0028 - mean_absolute_error: 0.0374 - val_loss: 0.0015 - val_mean_absolute_error: 0.0286\n",
      "Epoch 73/200\n",
      "9/9 [==============================] - 1s 62ms/step - loss: 0.0031 - mean_absolute_error: 0.0373 - val_loss: 0.0014 - val_mean_absolute_error: 0.0265\n",
      "Epoch 74/200\n",
      "9/9 [==============================] - 1s 66ms/step - loss: 0.0033 - mean_absolute_error: 0.0397 - val_loss: 0.0015 - val_mean_absolute_error: 0.0305\n",
      "Epoch 75/200\n",
      "9/9 [==============================] - 1s 64ms/step - loss: 0.0029 - mean_absolute_error: 0.0370 - val_loss: 0.0014 - val_mean_absolute_error: 0.0269\n",
      "Epoch 76/200\n",
      "9/9 [==============================] - 1s 65ms/step - loss: 0.0028 - mean_absolute_error: 0.0366 - val_loss: 0.0014 - val_mean_absolute_error: 0.0274\n",
      "Epoch 77/200\n",
      "9/9 [==============================] - 1s 66ms/step - loss: 0.0028 - mean_absolute_error: 0.0378 - val_loss: 0.0016 - val_mean_absolute_error: 0.0304\n",
      "Epoch 78/200\n",
      "9/9 [==============================] - 1s 63ms/step - loss: 0.0025 - mean_absolute_error: 0.0349 - val_loss: 0.0013 - val_mean_absolute_error: 0.0267\n",
      "Epoch 79/200\n",
      "9/9 [==============================] - 1s 70ms/step - loss: 0.0025 - mean_absolute_error: 0.0345 - val_loss: 0.0013 - val_mean_absolute_error: 0.0260\n",
      "Epoch 80/200\n",
      "9/9 [==============================] - 1s 65ms/step - loss: 0.0025 - mean_absolute_error: 0.0342 - val_loss: 0.0013 - val_mean_absolute_error: 0.0257\n",
      "Epoch 81/200\n",
      "9/9 [==============================] - 1s 71ms/step - loss: 0.0031 - mean_absolute_error: 0.0386 - val_loss: 0.0014 - val_mean_absolute_error: 0.0287\n",
      "Epoch 82/200\n",
      "9/9 [==============================] - 1s 64ms/step - loss: 0.0039 - mean_absolute_error: 0.0447 - val_loss: 0.0018 - val_mean_absolute_error: 0.0310\n",
      "Epoch 83/200\n",
      "9/9 [==============================] - 1s 67ms/step - loss: 0.0031 - mean_absolute_error: 0.0413 - val_loss: 0.0020 - val_mean_absolute_error: 0.0354\n",
      "Epoch 84/200\n",
      "9/9 [==============================] - 1s 67ms/step - loss: 0.0031 - mean_absolute_error: 0.0393 - val_loss: 0.0016 - val_mean_absolute_error: 0.0307\n",
      "Epoch 85/200\n",
      "9/9 [==============================] - 1s 65ms/step - loss: 0.0028 - mean_absolute_error: 0.0372 - val_loss: 0.0016 - val_mean_absolute_error: 0.0285\n",
      "Epoch 86/200\n",
      "9/9 [==============================] - 1s 66ms/step - loss: 0.0026 - mean_absolute_error: 0.0355 - val_loss: 0.0013 - val_mean_absolute_error: 0.0269\n",
      "Epoch 87/200\n",
      "9/9 [==============================] - 1s 63ms/step - loss: 0.0026 - mean_absolute_error: 0.0353 - val_loss: 0.0014 - val_mean_absolute_error: 0.0280\n",
      "Epoch 88/200\n",
      "9/9 [==============================] - 1s 65ms/step - loss: 0.0026 - mean_absolute_error: 0.0355 - val_loss: 0.0014 - val_mean_absolute_error: 0.0270\n",
      "Epoch 89/200\n",
      "9/9 [==============================] - 1s 67ms/step - loss: 0.0026 - mean_absolute_error: 0.0349 - val_loss: 0.0013 - val_mean_absolute_error: 0.0264\n",
      "Epoch 90/200\n",
      "9/9 [==============================] - 1s 63ms/step - loss: 0.0024 - mean_absolute_error: 0.0337 - val_loss: 0.0013 - val_mean_absolute_error: 0.0267\n",
      "Epoch 91/200\n",
      "9/9 [==============================] - 1s 64ms/step - loss: 0.0024 - mean_absolute_error: 0.0335 - val_loss: 0.0013 - val_mean_absolute_error: 0.0260\n",
      "Epoch 92/200\n",
      "9/9 [==============================] - 1s 62ms/step - loss: 0.0025 - mean_absolute_error: 0.0340 - val_loss: 0.0013 - val_mean_absolute_error: 0.0256\n",
      "Epoch 93/200\n",
      "9/9 [==============================] - 1s 63ms/step - loss: 0.0025 - mean_absolute_error: 0.0348 - val_loss: 0.0013 - val_mean_absolute_error: 0.0268\n",
      "Epoch 94/200\n",
      "9/9 [==============================] - 1s 67ms/step - loss: 0.0023 - mean_absolute_error: 0.0330 - val_loss: 0.0012 - val_mean_absolute_error: 0.0255\n",
      "Epoch 95/200\n",
      "9/9 [==============================] - 1s 68ms/step - loss: 0.0025 - mean_absolute_error: 0.0345 - val_loss: 0.0013 - val_mean_absolute_error: 0.0256\n",
      "Epoch 96/200\n",
      "9/9 [==============================] - 1s 67ms/step - loss: 0.0025 - mean_absolute_error: 0.0350 - val_loss: 0.0012 - val_mean_absolute_error: 0.0259\n",
      "Epoch 97/200\n",
      "9/9 [==============================] - 1s 65ms/step - loss: 0.0027 - mean_absolute_error: 0.0360 - val_loss: 0.0013 - val_mean_absolute_error: 0.0278\n",
      "Epoch 98/200\n",
      "9/9 [==============================] - 1s 64ms/step - loss: 0.0031 - mean_absolute_error: 0.0402 - val_loss: 0.0016 - val_mean_absolute_error: 0.0290\n",
      "Epoch 99/200\n",
      "9/9 [==============================] - 1s 66ms/step - loss: 0.0028 - mean_absolute_error: 0.0378 - val_loss: 0.0015 - val_mean_absolute_error: 0.0291\n",
      "Epoch 100/200\n",
      "9/9 [==============================] - 1s 62ms/step - loss: 0.0038 - mean_absolute_error: 0.0436 - val_loss: 0.0018 - val_mean_absolute_error: 0.0337\n",
      "Epoch 101/200\n",
      "9/9 [==============================] - 1s 66ms/step - loss: 0.0033 - mean_absolute_error: 0.0420 - val_loss: 0.0018 - val_mean_absolute_error: 0.0310\n",
      "Epoch 102/200\n",
      "9/9 [==============================] - 1s 64ms/step - loss: 0.0029 - mean_absolute_error: 0.0377 - val_loss: 0.0015 - val_mean_absolute_error: 0.0286\n",
      "Epoch 103/200\n",
      "9/9 [==============================] - 1s 62ms/step - loss: 0.0032 - mean_absolute_error: 0.0403 - val_loss: 0.0017 - val_mean_absolute_error: 0.0325\n",
      "Epoch 104/200\n",
      "9/9 [==============================] - 1s 63ms/step - loss: 0.0028 - mean_absolute_error: 0.0371 - val_loss: 0.0014 - val_mean_absolute_error: 0.0275\n",
      "Epoch 105/200\n",
      "9/9 [==============================] - 1s 65ms/step - loss: 0.0026 - mean_absolute_error: 0.0353 - val_loss: 0.0014 - val_mean_absolute_error: 0.0267\n",
      "Epoch 106/200\n",
      "9/9 [==============================] - 1s 63ms/step - loss: 0.0027 - mean_absolute_error: 0.0358 - val_loss: 0.0014 - val_mean_absolute_error: 0.0280\n",
      "Epoch 107/200\n",
      "9/9 [==============================] - 1s 66ms/step - loss: 0.0026 - mean_absolute_error: 0.0351 - val_loss: 0.0013 - val_mean_absolute_error: 0.0263\n",
      "Epoch 108/200\n",
      "9/9 [==============================] - 1s 66ms/step - loss: 0.0030 - mean_absolute_error: 0.0378 - val_loss: 0.0015 - val_mean_absolute_error: 0.0282\n",
      "Epoch 109/200\n",
      "9/9 [==============================] - 1s 66ms/step - loss: 0.0029 - mean_absolute_error: 0.0391 - val_loss: 0.0017 - val_mean_absolute_error: 0.0337\n",
      "Epoch 110/200\n",
      "9/9 [==============================] - 1s 65ms/step - loss: 0.0024 - mean_absolute_error: 0.0341 - val_loss: 0.0014 - val_mean_absolute_error: 0.0267\n",
      "Epoch 111/200\n",
      "9/9 [==============================] - 1s 63ms/step - loss: 0.0028 - mean_absolute_error: 0.0360 - val_loss: 0.0014 - val_mean_absolute_error: 0.0265\n",
      "Epoch 112/200\n",
      "9/9 [==============================] - 1s 64ms/step - loss: 0.0031 - mean_absolute_error: 0.0393 - val_loss: 0.0016 - val_mean_absolute_error: 0.0321\n",
      "Epoch 113/200\n",
      "9/9 [==============================] - 1s 61ms/step - loss: 0.0028 - mean_absolute_error: 0.0366 - val_loss: 0.0014 - val_mean_absolute_error: 0.0272\n",
      "Epoch 114/200\n",
      "9/9 [==============================] - 1s 69ms/step - loss: 0.0025 - mean_absolute_error: 0.0351 - val_loss: 0.0014 - val_mean_absolute_error: 0.0278\n"
     ]
    }
   ],
   "source": [
    "tf.random.set_seed(123)\n",
    "early_stopping = tf.keras.callbacks.EarlyStopping(\n",
    "    monitor=\"val_loss\", patience=20, restore_best_weights=True\n",
    ")\n",
    "\n",
    "model.compile(\n",
    "    loss=tf.losses.MeanSquaredError(),\n",
    "    optimizer=tf.optimizers.Adam(learning_rate=0.001),\n",
    "    metrics=[tf.metrics.MeanAbsoluteError()],\n",
    ")\n",
    "\n",
    "history = model.fit(\n",
    "    trainX,\n",
    "    trainX,\n",
    "    validation_split=0.2,\n",
    "    batch_size=80,\n",
    "    shuffle=False,\n",
    "    epochs=200,\n",
    "    callbacks=[early_stopping],\n",
    ")"
   ]
  },
  {
   "cell_type": "code",
   "execution_count": 175,
   "metadata": {
    "id": "_2vyP14aHsj0"
   },
   "outputs": [
    {
     "name": "stdout",
     "output_type": "stream",
     "text": [
      "27/27 [==============================] - 2s 14ms/step\n"
     ]
    }
   ],
   "source": [
    "trainPredict = model.predict(trainX)"
   ]
  },
  {
   "cell_type": "code",
   "execution_count": 176,
   "metadata": {},
   "outputs": [
    {
     "data": {
      "text/plain": [
       "<AxesSubplot:ylabel='Density'>"
      ]
     },
     "execution_count": 176,
     "metadata": {},
     "output_type": "execute_result"
    },
    {
     "data": {
      "image/png": "[encoded data removed]",
      "text/plain": [
       "<Figure size 640x480 with 1 Axes>"
      ]
     },
     "metadata": {},
     "output_type": "display_data"
    }
   ],
   "source": [
    "train_mse_loss = np.mean((trainPredict - trainX) ** 2, axis=1)\n",
    "\n",
    "sns.distplot(train_mse_loss, bins=100, kde=True)"
   ]
  },
  {
   "cell_type": "code",
   "execution_count": 177,
   "metadata": {
    "id": "UsCXGPt52vTl"
   },
   "outputs": [
    {
     "name": "stdout",
     "output_type": "stream",
     "text": [
      "3/3 [==============================] - 0s 16ms/step\n"
     ]
    }
   ],
   "source": [
    "testPredict = model.predict(testX)"
   ]
  },
  {
   "cell_type": "code",
   "execution_count": 178,
   "metadata": {},
   "outputs": [],
   "source": [
    "predit=testPredict.reshape(560,1)"
   ]
  },
  {
   "cell_type": "code",
   "execution_count": 179,
   "metadata": {},
   "outputs": [
    {
     "data": {
      "text/plain": [
       "<AxesSubplot:ylabel='Density'>"
      ]
     },
     "execution_count": 179,
     "metadata": {},
     "output_type": "execute_result"
    },
    {
     "data": {
      "image/png": "[encoded data removed]",
      "text/plain": [
       "<Figure size 640x480 with 1 Axes>"
      ]
     },
     "metadata": {},
     "output_type": "display_data"
    }
   ],
   "source": [
    "test_mse_loss = (testPredict - testX) ** 2\n",
    "\n",
    "sns.distplot(test_mse_loss, bins=100, kde=True)"
   ]
  },
  {
   "cell_type": "code",
   "execution_count": 181,
   "metadata": {
    "id": "SKmblvnd3HJY"
   },
   "outputs": [],
   "source": [
    "predit = testPredict.reshape(560, 1)"
   ]
  },
  {
   "cell_type": "code",
   "execution_count": 182,
   "metadata": {
    "id": "ea57HoyiYAhv"
   },
   "outputs": [],
   "source": [
    "df_1 = pd.DataFrame()"
   ]
  },
  {
   "cell_type": "code",
   "execution_count": 183,
   "metadata": {
    "id": "_ib9qT3wYEn-"
   },
   "outputs": [],
   "source": [
    "df_1[\"real\"] = pd.DataFrame(scaled_test)"
   ]
  },
  {
   "cell_type": "code",
   "execution_count": 184,
   "metadata": {
    "id": "HndZ5UlKYQkC"
   },
   "outputs": [],
   "source": [
    "df_1[\"pred\"] = predit"
   ]
  },
  {
   "cell_type": "code",
   "execution_count": 185,
   "metadata": {
    "id": "hTW1eaj7Y0BU"
   },
   "outputs": [],
   "source": [
    "df_1[\"anomaly\"] = target[test : len(df)].values"
   ]
  },
  {
   "cell_type": "code",
   "execution_count": 186,
   "metadata": {
    "id": "5nNrMVzDY8yR"
   },
   "outputs": [],
   "source": [
    "df_1[\"error\"] = (df_1.real - df_1.pred) ** 2"
   ]
  },
  {
   "cell_type": "code",
   "execution_count": 187,
   "metadata": {
    "id": "-7fFEheLYcic"
   },
   "outputs": [],
   "source": [
    "media = np.mean(df_1.error)\n",
    "ds = np.std(df_1.error)"
   ]
  },
  {
   "cell_type": "code",
   "execution_count": 188,
   "metadata": {
    "id": "6PYuJjCMZMUR"
   },
   "outputs": [],
   "source": [
    "lower_p = -3.5 * ds\n",
    "upper_p = +3.5 * ds"
   ]
  },
  {
   "cell_type": "code",
   "execution_count": 189,
   "metadata": {
    "id": "2VtEndwEZPzc"
   },
   "outputs": [],
   "source": [
    "#anomalias_p = df_1[(df_1.error < lower_p) | (df_1.error > upper_p)]\n",
    "anomalias_p = df_1[df_1.error > upper_p]"
   ]
  },
  {
   "cell_type": "code",
   "execution_count": 190,
   "metadata": {
    "colab": {
     "base_uri": "https://localhost:8080/",
     "height": 363
    },
    "executionInfo": {
     "elapsed": 314,
     "status": "ok",
     "timestamp": 1655912360445,
     "user": {
      "displayName": "Hugo Nuñez Delafuente",
      "userId": "07552315814755007738"
     },
     "user_tz": 240
    },
    "id": "3hPUUlQ2ZUcV",
    "outputId": "f0f6c9b4-96d1-4a55-9f36-2fda79d05ef5"
   },
   "outputs": [
    {
     "data": {
      "text/html": [
       "<div>\n",
       "<style scoped>\n",
       "    .dataframe tbody tr th:only-of-type {\n",
       "        vertical-align: middle;\n",
       "    }\n",
       "\n",
       "    .dataframe tbody tr th {\n",
       "        vertical-align: top;\n",
       "    }\n",
       "\n",
       "    .dataframe thead th {\n",
       "        text-align: right;\n",
       "    }\n",
       "</style>\n",
       "<table border=\"1\" class=\"dataframe\">\n",
       "  <thead>\n",
       "    <tr style=\"text-align: right;\">\n",
       "      <th></th>\n",
       "      <th>real</th>\n",
       "      <th>pred</th>\n",
       "      <th>anomaly</th>\n",
       "      <th>error</th>\n",
       "    </tr>\n",
       "  </thead>\n",
       "  <tbody>\n",
       "    <tr>\n",
       "      <th>352</th>\n",
       "      <td>0.012624</td>\n",
       "      <td>0.233281</td>\n",
       "      <td>0</td>\n",
       "      <td>0.048689</td>\n",
       "    </tr>\n",
       "    <tr>\n",
       "      <th>353</th>\n",
       "      <td>0.016832</td>\n",
       "      <td>0.404246</td>\n",
       "      <td>0</td>\n",
       "      <td>0.150089</td>\n",
       "    </tr>\n",
       "    <tr>\n",
       "      <th>355</th>\n",
       "      <td>1.000000</td>\n",
       "      <td>0.648251</td>\n",
       "      <td>1</td>\n",
       "      <td>0.123727</td>\n",
       "    </tr>\n",
       "    <tr>\n",
       "      <th>438</th>\n",
       "      <td>0.769702</td>\n",
       "      <td>0.503432</td>\n",
       "      <td>0</td>\n",
       "      <td>0.070899</td>\n",
       "    </tr>\n",
       "    <tr>\n",
       "      <th>439</th>\n",
       "      <td>0.001148</td>\n",
       "      <td>0.449141</td>\n",
       "      <td>1</td>\n",
       "      <td>0.200698</td>\n",
       "    </tr>\n",
       "  </tbody>\n",
       "</table>\n",
       "</div>"
      ],
      "text/plain": [
       "         real      pred  anomaly     error\n",
       "352  0.012624  0.233281        0  0.048689\n",
       "353  0.016832  0.404246        0  0.150089\n",
       "355  1.000000  0.648251        1  0.123727\n",
       "438  0.769702  0.503432        0  0.070899\n",
       "439  0.001148  0.449141        1  0.200698"
      ]
     },
     "execution_count": 190,
     "metadata": {},
     "output_type": "execute_result"
    }
   ],
   "source": [
    "anomalias_p"
   ]
  },
  {
   "cell_type": "code",
   "execution_count": 191,
   "metadata": {
    "colab": {
     "base_uri": "https://localhost:8080/"
    },
    "executionInfo": {
     "elapsed": 457,
     "status": "ok",
     "timestamp": 1655912364076,
     "user": {
      "displayName": "Hugo Nuñez Delafuente",
      "userId": "07552315814755007738"
     },
     "user_tz": 240
    },
    "id": "017982K3ZXj0",
    "outputId": "c40ddc55-4c59-4f01-c86c-f96a084fcee6"
   },
   "outputs": [
    {
     "data": {
      "text/plain": [
       "Counter({0: 3, 1: 2})"
      ]
     },
     "execution_count": 191,
     "metadata": {},
     "output_type": "execute_result"
    }
   ],
   "source": [
    "Counter(anomalias_p.anomaly)"
   ]
  },
  {
   "cell_type": "code",
   "execution_count": 192,
   "metadata": {
    "colab": {
     "base_uri": "https://localhost:8080/",
     "height": 363
    },
    "executionInfo": {
     "elapsed": 286,
     "status": "ok",
     "timestamp": 1655912383503,
     "user": {
      "displayName": "Hugo Nuñez Delafuente",
      "userId": "07552315814755007738"
     },
     "user_tz": 240
    },
    "id": "pWL1phT_Z6Eb",
    "outputId": "5c22392b-ac57-4f0b-a638-9e4277dde076"
   },
   "outputs": [
    {
     "data": {
      "text/html": [
       "<div>\n",
       "<style scoped>\n",
       "    .dataframe tbody tr th:only-of-type {\n",
       "        vertical-align: middle;\n",
       "    }\n",
       "\n",
       "    .dataframe tbody tr th {\n",
       "        vertical-align: top;\n",
       "    }\n",
       "\n",
       "    .dataframe thead th {\n",
       "        text-align: right;\n",
       "    }\n",
       "</style>\n",
       "<table border=\"1\" class=\"dataframe\">\n",
       "  <thead>\n",
       "    <tr style=\"text-align: right;\">\n",
       "      <th></th>\n",
       "      <th>real</th>\n",
       "      <th>pred</th>\n",
       "      <th>anomaly</th>\n",
       "      <th>error</th>\n",
       "    </tr>\n",
       "  </thead>\n",
       "  <tbody>\n",
       "    <tr>\n",
       "      <th>354</th>\n",
       "      <td>0.483933</td>\n",
       "      <td>0.540151</td>\n",
       "      <td>1</td>\n",
       "      <td>0.003161</td>\n",
       "    </tr>\n",
       "    <tr>\n",
       "      <th>355</th>\n",
       "      <td>1.000000</td>\n",
       "      <td>0.648251</td>\n",
       "      <td>1</td>\n",
       "      <td>0.123727</td>\n",
       "    </tr>\n",
       "    <tr>\n",
       "      <th>356</th>\n",
       "      <td>0.885233</td>\n",
       "      <td>0.736736</td>\n",
       "      <td>1</td>\n",
       "      <td>0.022051</td>\n",
       "    </tr>\n",
       "    <tr>\n",
       "      <th>357</th>\n",
       "      <td>0.895180</td>\n",
       "      <td>0.779485</td>\n",
       "      <td>1</td>\n",
       "      <td>0.013385</td>\n",
       "    </tr>\n",
       "    <tr>\n",
       "      <th>358</th>\n",
       "      <td>0.823259</td>\n",
       "      <td>0.777422</td>\n",
       "      <td>1</td>\n",
       "      <td>0.002101</td>\n",
       "    </tr>\n",
       "    <tr>\n",
       "      <th>359</th>\n",
       "      <td>0.812548</td>\n",
       "      <td>0.761741</td>\n",
       "      <td>1</td>\n",
       "      <td>0.002581</td>\n",
       "    </tr>\n",
       "    <tr>\n",
       "      <th>360</th>\n",
       "      <td>0.857307</td>\n",
       "      <td>0.781021</td>\n",
       "      <td>1</td>\n",
       "      <td>0.005819</td>\n",
       "    </tr>\n",
       "    <tr>\n",
       "      <th>361</th>\n",
       "      <td>0.798776</td>\n",
       "      <td>0.824969</td>\n",
       "      <td>1</td>\n",
       "      <td>0.000686</td>\n",
       "    </tr>\n",
       "    <tr>\n",
       "      <th>362</th>\n",
       "      <td>0.819434</td>\n",
       "      <td>0.826615</td>\n",
       "      <td>1</td>\n",
       "      <td>0.000052</td>\n",
       "    </tr>\n",
       "    <tr>\n",
       "      <th>363</th>\n",
       "      <td>0.887911</td>\n",
       "      <td>0.831975</td>\n",
       "      <td>1</td>\n",
       "      <td>0.003129</td>\n",
       "    </tr>\n",
       "    <tr>\n",
       "      <th>364</th>\n",
       "      <td>0.841622</td>\n",
       "      <td>0.818246</td>\n",
       "      <td>1</td>\n",
       "      <td>0.000546</td>\n",
       "    </tr>\n",
       "    <tr>\n",
       "      <th>365</th>\n",
       "      <td>0.793803</td>\n",
       "      <td>0.802425</td>\n",
       "      <td>1</td>\n",
       "      <td>0.000074</td>\n",
       "    </tr>\n",
       "    <tr>\n",
       "      <th>366</th>\n",
       "      <td>0.816373</td>\n",
       "      <td>0.788975</td>\n",
       "      <td>1</td>\n",
       "      <td>0.000751</td>\n",
       "    </tr>\n",
       "    <tr>\n",
       "      <th>367</th>\n",
       "      <td>0.883321</td>\n",
       "      <td>0.778174</td>\n",
       "      <td>1</td>\n",
       "      <td>0.011056</td>\n",
       "    </tr>\n",
       "    <tr>\n",
       "      <th>368</th>\n",
       "      <td>0.959832</td>\n",
       "      <td>0.790812</td>\n",
       "      <td>1</td>\n",
       "      <td>0.028568</td>\n",
       "    </tr>\n",
       "    <tr>\n",
       "      <th>369</th>\n",
       "      <td>0.914308</td>\n",
       "      <td>0.829462</td>\n",
       "      <td>1</td>\n",
       "      <td>0.007199</td>\n",
       "    </tr>\n",
       "    <tr>\n",
       "      <th>370</th>\n",
       "      <td>0.890972</td>\n",
       "      <td>0.815842</td>\n",
       "      <td>1</td>\n",
       "      <td>0.005644</td>\n",
       "    </tr>\n",
       "    <tr>\n",
       "      <th>371</th>\n",
       "      <td>0.807957</td>\n",
       "      <td>0.778192</td>\n",
       "      <td>1</td>\n",
       "      <td>0.000886</td>\n",
       "    </tr>\n",
       "    <tr>\n",
       "      <th>372</th>\n",
       "      <td>0.745218</td>\n",
       "      <td>0.692214</td>\n",
       "      <td>1</td>\n",
       "      <td>0.002809</td>\n",
       "    </tr>\n",
       "    <tr>\n",
       "      <th>373</th>\n",
       "      <td>0.627391</td>\n",
       "      <td>0.604576</td>\n",
       "      <td>1</td>\n",
       "      <td>0.000521</td>\n",
       "    </tr>\n",
       "    <tr>\n",
       "      <th>374</th>\n",
       "      <td>0.586458</td>\n",
       "      <td>0.535592</td>\n",
       "      <td>1</td>\n",
       "      <td>0.002587</td>\n",
       "    </tr>\n",
       "    <tr>\n",
       "      <th>375</th>\n",
       "      <td>0.592961</td>\n",
       "      <td>0.495832</td>\n",
       "      <td>1</td>\n",
       "      <td>0.009434</td>\n",
       "    </tr>\n",
       "    <tr>\n",
       "      <th>376</th>\n",
       "      <td>0.573833</td>\n",
       "      <td>0.595332</td>\n",
       "      <td>1</td>\n",
       "      <td>0.000462</td>\n",
       "    </tr>\n",
       "    <tr>\n",
       "      <th>439</th>\n",
       "      <td>0.001148</td>\n",
       "      <td>0.449141</td>\n",
       "      <td>1</td>\n",
       "      <td>0.200698</td>\n",
       "    </tr>\n",
       "  </tbody>\n",
       "</table>\n",
       "</div>"
      ],
      "text/plain": [
       "         real      pred  anomaly     error\n",
       "354  0.483933  0.540151        1  0.003161\n",
       "355  1.000000  0.648251        1  0.123727\n",
       "356  0.885233  0.736736        1  0.022051\n",
       "357  0.895180  0.779485        1  0.013385\n",
       "358  0.823259  0.777422        1  0.002101\n",
       "359  0.812548  0.761741        1  0.002581\n",
       "360  0.857307  0.781021        1  0.005819\n",
       "361  0.798776  0.824969        1  0.000686\n",
       "362  0.819434  0.826615        1  0.000052\n",
       "363  0.887911  0.831975        1  0.003129\n",
       "364  0.841622  0.818246        1  0.000546\n",
       "365  0.793803  0.802425        1  0.000074\n",
       "366  0.816373  0.788975        1  0.000751\n",
       "367  0.883321  0.778174        1  0.011056\n",
       "368  0.959832  0.790812        1  0.028568\n",
       "369  0.914308  0.829462        1  0.007199\n",
       "370  0.890972  0.815842        1  0.005644\n",
       "371  0.807957  0.778192        1  0.000886\n",
       "372  0.745218  0.692214        1  0.002809\n",
       "373  0.627391  0.604576        1  0.000521\n",
       "374  0.586458  0.535592        1  0.002587\n",
       "375  0.592961  0.495832        1  0.009434\n",
       "376  0.573833  0.595332        1  0.000462\n",
       "439  0.001148  0.449141        1  0.200698"
      ]
     },
     "execution_count": 192,
     "metadata": {},
     "output_type": "execute_result"
    }
   ],
   "source": [
    "df_1[df_1[\"anomaly\"] == 1]"
   ]
  },
  {
   "cell_type": "code",
   "execution_count": 193,
   "metadata": {
    "colab": {
     "base_uri": "https://localhost:8080/"
    },
    "executionInfo": {
     "elapsed": 310,
     "status": "ok",
     "timestamp": 1655912388705,
     "user": {
      "displayName": "Hugo Nuñez Delafuente",
      "userId": "07552315814755007738"
     },
     "user_tz": 240
    },
    "id": "Tr-vpYBCbCha",
    "outputId": "f07e935c-16db-49a9-c1fd-cb1f395ece97"
   },
   "outputs": [
    {
     "data": {
      "text/plain": [
       "Counter({0: 536, 1: 24})"
      ]
     },
     "execution_count": 193,
     "metadata": {},
     "output_type": "execute_result"
    }
   ],
   "source": [
    "Counter(target[test : len(df)])"
   ]
  },
  {
   "cell_type": "code",
   "execution_count": 194,
   "metadata": {},
   "outputs": [],
   "source": [
    "anom=df_1[df_1[\"anomaly\"] == 1]"
   ]
  },
  {
   "cell_type": "code",
   "execution_count": 195,
   "metadata": {},
   "outputs": [],
   "source": [
    "df_1[\"score\"] = (df_1[\"error\"] - np.min(df_1.error)) / (\n",
    "    np.max(df_1.error) - np.min(df_1.error)\n",
    ")"
   ]
  },
  {
   "cell_type": "code",
   "execution_count": 196,
   "metadata": {},
   "outputs": [
    {
     "data": {
      "text/plain": [
       "439    1.000000\n",
       "353    0.747835\n",
       "355    0.616484\n",
       "438    0.353264\n",
       "352    0.242599\n",
       "368    0.142342\n",
       "356    0.109873\n",
       "531    0.107140\n",
       "152    0.096056\n",
       "168    0.095220\n",
       "304    0.094832\n",
       "160    0.094594\n",
       "312    0.094098\n",
       "296    0.093771\n",
       "240    0.093031\n",
       "288    0.092752\n",
       "280    0.092512\n",
       "176    0.092478\n",
       "208    0.092432\n",
       "136    0.092192\n",
       "128    0.091997\n",
       "328    0.091857\n",
       "320    0.091557\n",
       "256    0.091457\n",
       "232    0.091386\n",
       "144    0.091379\n",
       "224    0.091329\n",
       "72     0.091058\n",
       "200    0.090721\n",
       "248    0.090642\n",
       "Name: score, dtype: float64"
      ]
     },
     "execution_count": 196,
     "metadata": {},
     "output_type": "execute_result"
    }
   ],
   "source": [
    "df_1[\"score\"].sort_values(ascending=False).head(30)"
   ]
  },
  {
   "cell_type": "code",
   "execution_count": 197,
   "metadata": {},
   "outputs": [
    {
     "data": {
      "image/png": "[encoded data removed]",
      "text/plain": [
       "<Figure size 500x500 with 1 Axes>"
      ]
     },
     "metadata": {},
     "output_type": "display_data"
    }
   ],
   "source": [
    "sns.displot(data=df_1, x=\"score\", bins=100)\n",
    "plt.axvline(0.3, color=\"red\", linewidth=1, linestyle=\"dashed\", label=\"Umbral\")\n",
    "plt.legend(shadow=True)\n",
    "#plt.savefig(\"/Users/hn/OneDrive/Doctorado/Tesis/Proyecto Tesis/fig_examen/autoenc_umbral_8.pdf\")\n",
    "plt.show()"
   ]
  },
  {
   "cell_type": "code",
   "execution_count": 198,
   "metadata": {},
   "outputs": [],
   "source": [
    "umbral = 0.3"
   ]
  },
  {
   "cell_type": "code",
   "execution_count": 199,
   "metadata": {},
   "outputs": [],
   "source": [
    "df_1[\"pred_score\"] = np.where(df_1.score > umbral, 1, 0)"
   ]
  },
  {
   "cell_type": "code",
   "execution_count": 200,
   "metadata": {},
   "outputs": [
    {
     "data": {
      "text/html": [
       "<div>\n",
       "<style scoped>\n",
       "    .dataframe tbody tr th:only-of-type {\n",
       "        vertical-align: middle;\n",
       "    }\n",
       "\n",
       "    .dataframe tbody tr th {\n",
       "        vertical-align: top;\n",
       "    }\n",
       "\n",
       "    .dataframe thead th {\n",
       "        text-align: right;\n",
       "    }\n",
       "</style>\n",
       "<table border=\"1\" class=\"dataframe\">\n",
       "  <thead>\n",
       "    <tr style=\"text-align: right;\">\n",
       "      <th></th>\n",
       "      <th>real</th>\n",
       "      <th>pred</th>\n",
       "      <th>anomaly</th>\n",
       "      <th>error</th>\n",
       "      <th>score</th>\n",
       "      <th>pred_score</th>\n",
       "    </tr>\n",
       "  </thead>\n",
       "  <tbody>\n",
       "    <tr>\n",
       "      <th>353</th>\n",
       "      <td>0.016832</td>\n",
       "      <td>0.404246</td>\n",
       "      <td>0</td>\n",
       "      <td>0.150089</td>\n",
       "      <td>0.747835</td>\n",
       "      <td>1</td>\n",
       "    </tr>\n",
       "    <tr>\n",
       "      <th>355</th>\n",
       "      <td>1.000000</td>\n",
       "      <td>0.648251</td>\n",
       "      <td>1</td>\n",
       "      <td>0.123727</td>\n",
       "      <td>0.616484</td>\n",
       "      <td>1</td>\n",
       "    </tr>\n",
       "    <tr>\n",
       "      <th>438</th>\n",
       "      <td>0.769702</td>\n",
       "      <td>0.503432</td>\n",
       "      <td>0</td>\n",
       "      <td>0.070899</td>\n",
       "      <td>0.353264</td>\n",
       "      <td>1</td>\n",
       "    </tr>\n",
       "    <tr>\n",
       "      <th>439</th>\n",
       "      <td>0.001148</td>\n",
       "      <td>0.449141</td>\n",
       "      <td>1</td>\n",
       "      <td>0.200698</td>\n",
       "      <td>1.000000</td>\n",
       "      <td>1</td>\n",
       "    </tr>\n",
       "  </tbody>\n",
       "</table>\n",
       "</div>"
      ],
      "text/plain": [
       "         real      pred  anomaly     error     score  pred_score\n",
       "353  0.016832  0.404246        0  0.150089  0.747835           1\n",
       "355  1.000000  0.648251        1  0.123727  0.616484           1\n",
       "438  0.769702  0.503432        0  0.070899  0.353264           1\n",
       "439  0.001148  0.449141        1  0.200698  1.000000           1"
      ]
     },
     "execution_count": 200,
     "metadata": {},
     "output_type": "execute_result"
    }
   ],
   "source": [
    "df_1[df_1[\"pred_score\"] == 1]"
   ]
  },
  {
   "cell_type": "code",
   "execution_count": 201,
   "metadata": {},
   "outputs": [
    {
     "name": "stdout",
     "output_type": "stream",
     "text": [
      "              precision    recall  f1-score   support\n",
      "\n",
      "           0       0.96      1.00      0.98       536\n",
      "           1       0.50      0.08      0.14        24\n",
      "\n",
      "    accuracy                           0.96       560\n",
      "   macro avg       0.73      0.54      0.56       560\n",
      "weighted avg       0.94      0.96      0.94       560\n",
      "\n"
     ]
    }
   ],
   "source": [
    "print(classification_report(df_1.anomaly, df_1.pred_score))"
   ]
  },
  {
   "cell_type": "code",
   "execution_count": 202,
   "metadata": {},
   "outputs": [],
   "source": [
    "anom_score=df_1[df_1[\"pred_score\"] == 1]"
   ]
  },
  {
   "cell_type": "code",
   "execution_count": null,
   "metadata": {
    "colab": {
     "base_uri": "https://localhost:8080/",
     "height": 809
    },
    "executionInfo": {
     "elapsed": 572,
     "status": "ok",
     "timestamp": 1655912304603,
     "user": {
      "displayName": "Hugo Nuñez Delafuente",
      "userId": "07552315814755007738"
     },
     "user_tz": 240
    },
    "id": "anrGkLFhHu_B",
    "outputId": "0ab6ea51-2f21-430b-e3e6-69278ae7f7b7"
   },
   "outputs": [],
   "source": [
    "plt.figure(figsize=(10, 6))\n",
    "# plt.xlim(1900,2100)\n",
    "plt.plot(scaled_test, label=\"real\")\n",
    "plt.plot(predit,label=\"predicción\")\n",
    "plt.scatter(anom.index, anom.real, c=\"red\",label=\"anomalía\")\n",
    "#plt.scatter(anom_score.index, anom_score.real, c=\"#00ff80\", alpha=0.7,marker=\"*\",label=\"posible anomalía\")\n",
    "plt.legend(shadow=True)\n",
    "#plt.savefig(\"/Users/hn/OneDrive/Doctorado/Tesis/Proyecto Tesis/fig_examen/aut_score31.pdf\")\n",
    "plt.show()"
   ]
  },
  {
   "cell_type": "code",
   "execution_count": null,
   "metadata": {},
   "outputs": [],
   "source": []
  }
 ],
 "metadata": {
  "colab": {
   "authorship_tag": "ABX9TyOAWAWkTHVGtkmsrnM31Tnc",
   "collapsed_sections": [],
   "mount_file_id": "1A_eA6T4sJ5l4T7-34sv6tUrcSWik-W1b",
   "provenance": []
  },
  "kernelspec": {
   "display_name": "Python 3 (ipykernel)",
   "language": "python",
   "name": "python3"
  },
  "language_info": {
   "codemirror_mode": {
    "name": "ipython",
    "version": 3
   },
   "file_extension": ".py",
   "mimetype": "text/x-python",
   "name": "python",
   "nbconvert_exporter": "python",
   "pygments_lexer": "ipython3",
   "version": "3.9.12"
  }
 },
 "nbformat": 4,
 "nbformat_minor": 4
}
